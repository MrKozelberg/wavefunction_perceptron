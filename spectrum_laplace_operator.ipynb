{
  "nbformat": 4,
  "nbformat_minor": 0,
  "metadata": {
    "colab": {
      "provenance": [],
      "collapsed_sections": [],
      "authorship_tag": "ABX9TyO6EfqNBHRunmWTrDMalh2d",
      "include_colab_link": true
    },
    "kernelspec": {
      "name": "python3",
      "display_name": "Python 3"
    },
    "language_info": {
      "name": "python"
    },
    "accelerator": "GPU"
  },
  "cells": [
    {
      "cell_type": "markdown",
      "metadata": {
        "id": "view-in-github",
        "colab_type": "text"
      },
      "source": [
        "<a href=\"https://colab.research.google.com/github/MrKozelberg/wavefunction_perceptron/blob/spectrum_laplace_operator/spectrum_laplace_operator.ipynb\" target=\"_parent\"><img src=\"https://colab.research.google.com/assets/colab-badge.svg\" alt=\"Open In Colab\"/></a>"
      ]
    },
    {
      "cell_type": "markdown",
      "source": [
        "# Applying the perceptron to the Laplace operator's eigen-problem"
      ],
      "metadata": {
        "id": "elXP-wUBurqQ"
      }
    },
    {
      "cell_type": "markdown",
      "source": [
        "## Imports"
      ],
      "metadata": {
        "id": "4fJsWq9ExUOq"
      }
    },
    {
      "cell_type": "code",
      "execution_count": 1,
      "metadata": {
        "id": "sug9ulazc23Z"
      },
      "outputs": [],
      "source": [
        "import numpy as np  # to work with arrays\n",
        "import matplotlib.pyplot as plt  # to make figures\n",
        "\n",
        "# PyTorch\n",
        "import torch\n",
        "from torch import nn"
      ]
    },
    {
      "cell_type": "markdown",
      "source": [
        "## Detect available device"
      ],
      "metadata": {
        "id": "BPGdvE0WxZ7S"
      }
    },
    {
      "cell_type": "code",
      "source": [
        "device = \"cuda\" if torch.cuda.is_available() else \"cpu\"\n",
        "print(f\"Using {device} device\")"
      ],
      "metadata": {
        "colab": {
          "base_uri": "https://localhost:8080/"
        },
        "id": "NYSalFEpensc",
        "outputId": "23a50a09-a1e1-4840-8f78-0b17bf9c0796"
      },
      "execution_count": 2,
      "outputs": [
        {
          "output_type": "stream",
          "name": "stdout",
          "text": [
            "Using cpu device\n"
          ]
        }
      ]
    },
    {
      "cell_type": "markdown",
      "source": [
        "## Definition of an activation function and its derivatives"
      ],
      "metadata": {
        "id": "D2y-KCVyxqLZ"
      }
    },
    {
      "cell_type": "code",
      "source": [
        "def f0(x):\n",
        "    return torch.tanh(x)\n",
        "  \n",
        "def f1(x):\n",
        "  return 1/torch.cosh(x)**2\n",
        "  \n",
        "def f2(x):\n",
        "  return -2*torch.sinh(x)/torch.cosh(x)**3"
      ],
      "metadata": {
        "id": "QUpOyMlelHPb"
      },
      "execution_count": 3,
      "outputs": []
    },
    {
      "cell_type": "markdown",
      "source": [
        "## Class for the perceptron-wavefunction "
      ],
      "metadata": {
        "id": "LhfjjwNGyB_-"
      }
    },
    {
      "cell_type": "code",
      "source": [
        "class WaveFunction(nn.Module):\n",
        "\n",
        "  def __init__(self, N, layersizes):\n",
        "    self.N = N  # size of the input vector\n",
        "    self.layersizes = layersizes  # sizes of hidden layers\n",
        "    self.l = len(self.layersizes)  # number of hidden layers\n",
        "\n",
        "    super(WaveFunction, self).__init__()\n",
        "        \n",
        "    self.linear_tanh_stack = nn.Sequential()\n",
        "    for i in range(self.l + 1):\n",
        "      if i == 0:\n",
        "        self.linear_tanh_stack.append(nn.Linear(N, self.layersizes[i]))\n",
        "      elif i == self.l:\n",
        "        self.linear_tanh_stack.append(nn.Linear(self.layersizes[i-1], 1))\n",
        "      else:\n",
        "        self.linear_tanh_stack.append(nn.Linear(self.layersizes[i-1],\n",
        "                                                self.layersizes[i]))\n",
        "      self.linear_tanh_stack.append(nn.Tanh())\n",
        "    \n",
        "    self.h = [None] * (self.l + 1)  # outputs of the layers\n",
        "\n",
        "  \n",
        "  def forward(self, x):\n",
        "    for i in range(self.l + 1):\n",
        "      if i == 0:\n",
        "        self.h[i] = self.linear_tanh_stack[2*i+1](\n",
        "            self.linear_tanh_stack[2*i](x))\n",
        "      else:\n",
        "        self.h[i] = self.linear_tanh_stack[2*i+1](\n",
        "            self.linear_tanh_stack[2*i](self.h[i-1]))\n",
        "      \n",
        "    return self.h[-1]\n",
        "\n",
        "\n",
        "  def grad(self, x):\n",
        "    \"\"\"\n",
        "    finds the gradient of the wave function at a given point x\n",
        "    \"\"\"\n",
        "    _ = self.forward(x)  # computes outputs of the layers #\n",
        "    gradient = torch.zeros(x.shape) #[None] * self.N #\n",
        "    for t in range(self.N):\n",
        "      dh_dx = torch.zeros(self.N).to(device) #\n",
        "      dh_dx[t] = 1 # \n",
        "\n",
        "      for i in range(self.l + 1):\n",
        "        w = self.linear_tanh_stack[2*i].weight\n",
        "        b = self.linear_tanh_stack[2*i].bias\n",
        "\n",
        "        if i == 0:\n",
        "          dh_dx = f1(x @ w.T + b) * (dh_dx @ w.T)\n",
        "        else:\n",
        "          dh_dx = f1(self.h[i-1] @ w.T + b) * (dh_dx @ w.T)   \n",
        "        \n",
        "      # print(dh_dx.shape, gradient[t].shape)\n",
        "      \n",
        "      gradient[:,t] = dh_dx.reshape(-1)\n",
        "\n",
        "    return gradient\n",
        "  \n",
        "\n",
        "  def laplac(self, x):\n",
        "    \"\"\"\n",
        "    finds the Laplacian of the wave function at a given point x\n",
        "    \"\"\"\n",
        "    y = self.forward(x)  # computes outputs of the layers\n",
        "    laplacian = 0.0\n",
        "    for t in range(self.N):\n",
        "      dh_dx = torch.zeros(self.N).to(device)\n",
        "      dh_dx[t] = 1\n",
        "\n",
        "      d2h_dx2 = torch.zeros(self.N).to(device)\n",
        "\n",
        "      for i in range(self.l + 1):\n",
        "        w = self.linear_tanh_stack[2*i].weight\n",
        "        b = self.linear_tanh_stack[2*i].bias\n",
        "\n",
        "        # firstly, the new value of the second derivative computes as it is \n",
        "        # used the previous value of the first derivative\n",
        "\n",
        "        if i == 0:\n",
        "          d2h_dx2 = f2(x @ w.T + b) * (dh_dx @ w.T)**2\n",
        "        else:\n",
        "          d2h_dx2 = f2(self.h[i-1] @ w.T + b) * (dh_dx @ w.T)**2\\\n",
        "                    + f1(self.h[i-1] @ w.T + b) * (d2h_dx2 @ w.T)\n",
        "\n",
        "        if i == 0:\n",
        "          dh_dx = f1(x @ w.T + b) * (dh_dx @ w.T)\n",
        "        else:\n",
        "          dh_dx = f1(self.h[i-1] @ w.T + b) * (dh_dx @ w.T) \n",
        "      \n",
        "      # print(d2h_dx2)\n",
        "      laplacian += d2h_dx2\n",
        "    \n",
        "    return laplacian"
      ],
      "metadata": {
        "id": "_QiDWtWDfBVM"
      },
      "execution_count": 4,
      "outputs": []
    },
    {
      "cell_type": "code",
      "source": [
        "def A(x_):\n",
        "  p = torch.ones(x_.shape[0]).to(device)\n",
        "\n",
        "  for i in range(x_.shape[1]):\n",
        "    p *= (x_[:,i] - 1/2)**2-1/4\n",
        "\n",
        "  return p\n",
        "  \n",
        "def Ax(x_):\n",
        "  p = torch.ones(x_.shape).to(device)\n",
        "\n",
        "  for i in range(x_.shape[1]):\n",
        "    p[:, i] = A(x_) * 2 * (x_[:,i] - 1/2) / ((x_[:,i] - 1/2)**2-1/4)\n",
        "\n",
        "  return p\n",
        "  \n",
        "def Axx(x_):\n",
        "  return 2 * A(x_) * torch.sum( ((x_ - 1/2)**2 - 1/4)**(-1), axis=1 )\n",
        "\n",
        "def train_loop(N, N_batch, M, wf, optimizer, eigval):\n",
        "  \"\"\"\n",
        "  N --- a size of the input vector, its dimension\n",
        "  M --- total number of iterations\n",
        "  \"\"\"\n",
        "\n",
        "  loss_fn = nn.L1Loss()\n",
        "  \n",
        "  for i in range(M):\n",
        "    x_test = torch.rand((N_batch, N)).to(device)\n",
        "\n",
        "    phi_test = wf(x_test).reshape(len(x_test)).to(device)\n",
        "    phix_test = wf.grad(x_test).to(device)\n",
        "    phixx_test = wf.laplac(x_test).reshape(len(x_test)).to(device)\n",
        "\n",
        "    # если задавать нужное значение энергии, то всё получается\n",
        "    I = torch.mean( (phixx_test * A(x_test) \\\n",
        "                     + 2 * torch.sum(Ax(x_test) * phix_test, axis=1) \\\n",
        "                     + Axx(x_test) * phi_test \\\n",
        "                     + eigval*phi_test*A(x_test))**2 )\n",
        "\n",
        "    # Compute loss\n",
        "    loss = loss_fn(I, torch.tensor(0.0, device=device))\n",
        "\n",
        "    # Backpropagation\n",
        "    optimizer.zero_grad()\n",
        "    loss.backward()\n",
        "    optimizer.step()\n",
        "\n",
        "    if np.isnan(loss.item()):\n",
        "      print(f'{i:} LOSS FUNCTION IS NAN')\n",
        "      break\n",
        "\n",
        "    if (i+1) % 100 == 0:\n",
        "      print(f\"Residual: {loss.item():>0.4E} [{i+1:>5d} / {M:>5d}]\")"
      ],
      "metadata": {
        "id": "E2nA40qcyv_P"
      },
      "execution_count": 83,
      "outputs": []
    },
    {
      "cell_type": "markdown",
      "source": [
        "# 1D"
      ],
      "metadata": {
        "id": "clMQSN9tOQDm"
      }
    },
    {
      "cell_type": "code",
      "source": [
        "def plot_compar_1d(wf):\n",
        "  x = torch.linspace(1e-2,1-1e-2,100).reshape((-1, N)).to(device)\n",
        "  y = wf(x) * A(x).reshape((-1,N))\n",
        "\n",
        "  x = x.cpu().detach().numpy()\n",
        "  y = y.cpu().detach().numpy()\n",
        "\n",
        "  plt.plot(x, (y/y.mean())**2,\n",
        "           label='What we get')\n",
        "  \n",
        "  plt.plot(x, (np.sin(x*np.pi)/np.sin(x*np.pi).mean())**2,\n",
        "           label='What we should get')\n",
        "\n",
        "  plt.legend()\n",
        "  plt.xlim(0,1)\n",
        "  plt.ylim(0.0,None)\n",
        "\n",
        "  plt.show()"
      ],
      "metadata": {
        "id": "u4Oq4oeEJqBF"
      },
      "execution_count": 84,
      "outputs": []
    },
    {
      "cell_type": "markdown",
      "source": [
        "## Initialization of our wavefunction"
      ],
      "metadata": {
        "id": "K5CT__3bgwAy"
      }
    },
    {
      "cell_type": "code",
      "source": [
        "N = 1  # size of the input vector\n",
        "wf = WaveFunction(N, [10]*3).to(device) ## число внутренних слоёв должно быть той же четности, что и номер состояния"
      ],
      "metadata": {
        "id": "HbIunsoysKkA"
      },
      "execution_count": 94,
      "outputs": []
    },
    {
      "cell_type": "markdown",
      "source": [
        "## Its training"
      ],
      "metadata": {
        "id": "2WrEWGrgOVDf"
      }
    },
    {
      "cell_type": "code",
      "source": [
        "optimizer = torch.optim.SGD(params = wf.parameters(), lr=1e-2)\n",
        "scheduler = torch.optim.lr_scheduler.ExponentialLR(optimizer, gamma=0.9)\n",
        "epochs = 3\n",
        "for t in range(epochs):\n",
        "  print(f\"\\n Epoch {t+1}\\n-------------------------------\")\n",
        "  train_loop(N, 10, 1000, wf, optimizer, np.pi**2)\n",
        "  scheduler.step()\n",
        "\n",
        "  if (t+1) % 5 == 0 or t == 0:\n",
        "    plot_compar_1d(wf)"
      ],
      "metadata": {
        "id": "XLs3Ebluumdr",
        "colab": {
          "base_uri": "https://localhost:8080/",
          "height": 943
        },
        "outputId": "eb5e3429-9bde-45c9-c9bf-1aa91baaa3d9"
      },
      "execution_count": 95,
      "outputs": [
        {
          "output_type": "stream",
          "name": "stdout",
          "text": [
            "\n",
            " Epoch 1\n",
            "-------------------------------\n",
            "Residual: 1.3118E-04 [  100 /  1000]\n",
            "Residual: 5.3538E-05 [  200 /  1000]\n",
            "Residual: 1.0324E-05 [  300 /  1000]\n",
            "Residual: 6.0846E-07 [  400 /  1000]\n",
            "Residual: 7.1805E-07 [  500 /  1000]\n",
            "Residual: 1.2815E-06 [  600 /  1000]\n",
            "Residual: 6.4082E-07 [  700 /  1000]\n",
            "Residual: 7.4397E-07 [  800 /  1000]\n",
            "Residual: 9.4473E-07 [  900 /  1000]\n",
            "Residual: 1.8975E-06 [ 1000 /  1000]\n"
          ]
        },
        {
          "output_type": "display_data",
          "data": {
            "text/plain": [
              "<Figure size 432x288 with 1 Axes>"
            ],
            "image/png": "[encoded data removed]"
          },
          "metadata": {
            "needs_background": "light"
          }
        },
        {
          "output_type": "stream",
          "name": "stdout",
          "text": [
            "\n",
            " Epoch 2\n",
            "-------------------------------\n",
            "Residual: 4.7976E-07 [  100 /  1000]\n",
            "Residual: 8.5779E-07 [  200 /  1000]\n",
            "Residual: 6.3946E-07 [  300 /  1000]\n",
            "Residual: 8.5492E-07 [  400 /  1000]\n",
            "Residual: 5.7029E-07 [  500 /  1000]\n",
            "Residual: 8.5123E-07 [  600 /  1000]\n",
            "Residual: 1.4085E-06 [  700 /  1000]\n",
            "Residual: 6.8628E-07 [  800 /  1000]\n",
            "Residual: 1.3469E-06 [  900 /  1000]\n",
            "Residual: 9.3418E-07 [ 1000 /  1000]\n",
            "\n",
            " Epoch 3\n",
            "-------------------------------\n",
            "Residual: 4.6640E-07 [  100 /  1000]\n",
            "Residual: 1.4796E-06 [  200 /  1000]\n",
            "Residual: 1.3599E-06 [  300 /  1000]\n",
            "Residual: 1.8282E-06 [  400 /  1000]\n",
            "Residual: 1.1435E-06 [  500 /  1000]\n",
            "Residual: 8.8903E-07 [  600 /  1000]\n",
            "Residual: 1.1772E-06 [  700 /  1000]\n",
            "Residual: 8.4438E-07 [  800 /  1000]\n",
            "Residual: 1.0387E-06 [  900 /  1000]\n",
            "Residual: 7.8845E-07 [ 1000 /  1000]\n"
          ]
        }
      ]
    },
    {
      "cell_type": "markdown",
      "source": [
        "# 2D"
      ],
      "metadata": {
        "id": "aK4e4bOIOrb6"
      }
    },
    {
      "cell_type": "code",
      "source": [
        "def plot_compare_2d(wf):\n",
        "  n = 100 # number of points over one dimension\n",
        "  x = np.linspace(0,1,n)\n",
        "  xs, ys = np.meshgrid(x,x, sparse=True)\n",
        "  \n",
        "  X = np.array([[xs[0,i], ys[j,0]] for i in range(100) for j in range(100)])\n",
        "  X = torch.tensor(X).to(device)\n",
        "\n",
        "  phi = wf(X.float()) * A(X.float())\n",
        "  sin = torch.sin(np.pi*X[:,0].float())*torch.sin(np.pi*X[:,1].float())\n",
        "\n",
        "  fig, ax = plt.subplots(1, 2, figsize=(14,5))\n",
        "\n",
        "  pcm0 = ax[0].contourf(x, x, Z.reshape(100,100).cpu().detach().numpy()**2)\n",
        "\n",
        "  fig.colorbar(pcm0, ax=ax[0], extend='max')\n",
        "\n",
        "  pcm1 = ax[1].contourf(x, x, sin.reshape(100,100).cpu().detach().numpy()**2)\n",
        "\n",
        "  fig.colorbar(pcm1, ax=ax[1], extend='max')\n",
        "\n",
        "  ax[0].set_xlabel(r'$x_1$')\n",
        "  ax[0].set_ylabel(r'$x_2$')\n",
        "\n",
        "  ax[1].set_xlabel(r'$x_1$')\n",
        "  ax[1].set_ylabel(r'$x_2$')\n",
        "\n",
        "  ax[0].set_title(r'What $|\\psi|^2$ we get')\n",
        "  ax[1].set_title(r'What $|\\psi|^2$ we should get')\n",
        "\n",
        "  plt.show()"
      ],
      "metadata": {
        "id": "mWuKqa9Y00SU"
      },
      "execution_count": 96,
      "outputs": []
    },
    {
      "cell_type": "code",
      "source": [
        "N = 2\n",
        "wf = WaveFunction(N, [10**N]*3).to(device) "
      ],
      "metadata": {
        "id": "nSZqAJGk2wbL"
      },
      "execution_count": 97,
      "outputs": []
    },
    {
      "cell_type": "code",
      "source": [
        "optimizer = torch.optim.SGD(params = wf.parameters(), lr=1e-2)\n",
        "scheduler = torch.optim.lr_scheduler.ExponentialLR(optimizer, gamma=0.9)\n",
        "epochs = 5\n",
        "for t in range(epochs):\n",
        "  print(f\"\\n Epoch {t+1}\\n-------------------------------\")\n",
        "  train_loop(N, 10**N, 1000, wf, optimizer, 2*np.pi**2)\n",
        "  scheduler.step()\n",
        "\n",
        "  if (t+1) % 5 == 0 or t == 0:\n",
        "    # print('AAAAA')\n",
        "    plot_compare_2d(wf)"
      ],
      "metadata": {
        "colab": {
          "base_uri": "https://localhost:8080/",
          "height": 1000
        },
        "id": "fgpIz3bX23mI",
        "outputId": "bbde1881-1350-4418-c293-0991f63993eb"
      },
      "execution_count": 98,
      "outputs": [
        {
          "output_type": "stream",
          "name": "stdout",
          "text": [
            "\n",
            " Epoch 1\n",
            "-------------------------------\n",
            "Residual: 8.3712E-04 [  100 /  1000]\n",
            "Residual: 3.5777E-04 [  200 /  1000]\n",
            "Residual: 1.0977E-04 [  300 /  1000]\n",
            "Residual: 4.2258E-05 [  400 /  1000]\n",
            "Residual: 1.4395E-05 [  500 /  1000]\n",
            "Residual: 6.0561E-06 [  600 /  1000]\n",
            "Residual: 2.4618E-06 [  700 /  1000]\n",
            "Residual: 1.0178E-06 [  800 /  1000]\n",
            "Residual: 7.7023E-07 [  900 /  1000]\n",
            "Residual: 6.4374E-07 [ 1000 /  1000]\n"
          ]
        },
        {
          "output_type": "display_data",
          "data": {
            "text/plain": [
              "<Figure size 1008x360 with 4 Axes>"
            ],
            "image/png": "[encoded data removed]"
          },
          "metadata": {
            "needs_background": "light"
          }
        },
        {
          "output_type": "stream",
          "name": "stdout",
          "text": [
            "\n",
            " Epoch 2\n",
            "-------------------------------\n",
            "Residual: 7.4335E-07 [  100 /  1000]\n",
            "Residual: 8.7904E-07 [  200 /  1000]\n",
            "Residual: 7.1658E-07 [  300 /  1000]\n",
            "Residual: 7.6845E-07 [  400 /  1000]\n",
            "Residual: 8.7367E-07 [  500 /  1000]\n",
            "Residual: 7.1627E-07 [  600 /  1000]\n",
            "Residual: 5.4514E-07 [  700 /  1000]\n",
            "Residual: 6.7068E-07 [  800 /  1000]\n",
            "Residual: 5.6532E-07 [  900 /  1000]\n",
            "Residual: 5.8050E-07 [ 1000 /  1000]\n",
            "\n",
            " Epoch 3\n",
            "-------------------------------\n",
            "Residual: 6.4408E-07 [  100 /  1000]\n",
            "Residual: 6.0032E-07 [  200 /  1000]\n",
            "Residual: 6.5902E-07 [  300 /  1000]\n",
            "Residual: 7.0187E-07 [  400 /  1000]\n",
            "Residual: 7.0856E-07 [  500 /  1000]\n",
            "Residual: 7.3123E-07 [  600 /  1000]\n",
            "Residual: 5.1443E-07 [  700 /  1000]\n",
            "Residual: 6.5745E-07 [  800 /  1000]\n",
            "Residual: 1.0024E-06 [  900 /  1000]\n",
            "Residual: 5.9317E-07 [ 1000 /  1000]\n",
            "\n",
            " Epoch 4\n",
            "-------------------------------\n",
            "Residual: 5.0422E-07 [  100 /  1000]\n",
            "Residual: 8.2733E-07 [  200 /  1000]\n",
            "Residual: 6.3483E-07 [  300 /  1000]\n",
            "Residual: 7.8016E-07 [  400 /  1000]\n",
            "Residual: 7.2120E-07 [  500 /  1000]\n",
            "Residual: 4.8177E-07 [  600 /  1000]\n",
            "Residual: 8.6711E-07 [  700 /  1000]\n",
            "Residual: 6.3230E-07 [  800 /  1000]\n",
            "Residual: 7.4666E-07 [  900 /  1000]\n",
            "Residual: 6.6208E-07 [ 1000 /  1000]\n",
            "\n",
            " Epoch 5\n",
            "-------------------------------\n",
            "Residual: 7.1155E-07 [  100 /  1000]\n",
            "Residual: 6.4012E-07 [  200 /  1000]\n",
            "Residual: 6.3071E-07 [  300 /  1000]\n",
            "Residual: 8.3064E-07 [  400 /  1000]\n",
            "Residual: 6.5903E-07 [  500 /  1000]\n",
            "Residual: 5.6827E-07 [  600 /  1000]\n",
            "Residual: 6.0299E-07 [  700 /  1000]\n",
            "Residual: 7.0185E-07 [  800 /  1000]\n",
            "Residual: 6.4718E-07 [  900 /  1000]\n",
            "Residual: 5.5455E-07 [ 1000 /  1000]\n"
          ]
        },
        {
          "output_type": "display_data",
          "data": {
            "text/plain": [
              "<Figure size 1008x360 with 4 Axes>"
            ],
            "image/png": "[encoded data removed]"
          },
          "metadata": {
            "needs_background": "light"
          }
        }
      ]
    },
    {
      "cell_type": "markdown",
      "source": [
        "# 3D"
      ],
      "metadata": {
        "id": "AknW_La_6snb"
      }
    },
    {
      "cell_type": "code",
      "source": [
        "N = 3\n",
        "wf = WaveFunction(N, [100]*3).to(device)  # <--- here you should consider a case\n",
        "# when 100 -> 10**N"
      ],
      "metadata": {
        "id": "fODVYryp68rs"
      },
      "execution_count": 103,
      "outputs": []
    },
    {
      "cell_type": "code",
      "source": [
        "optimizer = torch.optim.SGD(params = wf.parameters(), lr=1e-2)\n",
        "scheduler = torch.optim.lr_scheduler.ExponentialLR(optimizer, gamma=0.9)\n",
        "epochs = 5\n",
        "for t in range(epochs):\n",
        "  print(f\"\\n Epoch {t+1}\\n-------------------------------\")\n",
        "  train_loop(N, 10**N, 500, wf, optimizer, 3*np.pi**2)\n",
        "  scheduler.step()"
      ],
      "metadata": {
        "colab": {
          "base_uri": "https://localhost:8080/"
        },
        "id": "Z5A3WKY_6yiJ",
        "outputId": "1591fbab-2e1d-4cc3-92f6-a54503db42b4"
      },
      "execution_count": 104,
      "outputs": [
        {
          "output_type": "stream",
          "name": "stdout",
          "text": [
            "\n",
            " Epoch 1\n",
            "-------------------------------\n",
            "Residual: 1.7615E-05 [  100 /   500]\n",
            "Residual: 1.8910E-05 [  200 /   500]\n",
            "Residual: 1.9225E-05 [  300 /   500]\n",
            "Residual: 1.9134E-05 [  400 /   500]\n",
            "Residual: 1.7491E-05 [  500 /   500]\n",
            "\n",
            " Epoch 2\n",
            "-------------------------------\n",
            "Residual: 1.7117E-05 [  100 /   500]\n",
            "Residual: 1.7174E-05 [  200 /   500]\n",
            "Residual: 1.4661E-05 [  300 /   500]\n",
            "Residual: 1.5758E-05 [  400 /   500]\n",
            "Residual: 1.5386E-05 [  500 /   500]\n",
            "\n",
            " Epoch 3\n",
            "-------------------------------\n",
            "Residual: 1.6538E-05 [  100 /   500]\n",
            "Residual: 1.4583E-05 [  200 /   500]\n",
            "Residual: 1.6255E-05 [  300 /   500]\n",
            "Residual: 1.5082E-05 [  400 /   500]\n",
            "Residual: 1.3694E-05 [  500 /   500]\n",
            "\n",
            " Epoch 4\n",
            "-------------------------------\n",
            "Residual: 1.4020E-05 [  100 /   500]\n",
            "Residual: 1.4543E-05 [  200 /   500]\n",
            "Residual: 1.3067E-05 [  300 /   500]\n",
            "Residual: 1.3271E-05 [  400 /   500]\n",
            "Residual: 1.2002E-05 [  500 /   500]\n",
            "\n",
            " Epoch 5\n",
            "-------------------------------\n",
            "Residual: 1.2578E-05 [  100 /   500]\n",
            "Residual: 1.2778E-05 [  200 /   500]\n",
            "Residual: 1.2354E-05 [  300 /   500]\n",
            "343 LOSS FUNCTION IS NAN\n"
          ]
        }
      ]
    },
    {
      "cell_type": "code",
      "source": [],
      "metadata": {
        "id": "Mql1r0LL63vK"
      },
      "execution_count": null,
      "outputs": []
    }
  ]
}