{
  "nbformat": 4,
  "nbformat_minor": 0,
  "metadata": {
    "colab": {
      "provenance": [],
      "collapsed_sections": [],
      "authorship_tag": "ABX9TyPMKmD/N4KF2e4yu+CO/vAA",
      "include_colab_link": true
    },
    "kernelspec": {
      "name": "python3",
      "display_name": "Python 3"
    },
    "language_info": {
      "name": "python"
    },
    "accelerator": "GPU"
  },
  "cells": [
    {
      "cell_type": "markdown",
      "metadata": {
        "id": "view-in-github",
        "colab_type": "text"
      },
      "source": [
        "<a href=\"https://colab.research.google.com/github/MrKozelberg/wavefunction_perceptron/blob/spectrum_laplace_operator/spectrum_laplace_operator.ipynb\" target=\"_parent\"><img src=\"https://colab.research.google.com/assets/colab-badge.svg\" alt=\"Open In Colab\"/></a>"
      ]
    },
    {
      "cell_type": "markdown",
      "source": [
        "# Applying the perceptron to the Laplace operator's eigen-problem"
      ],
      "metadata": {
        "id": "elXP-wUBurqQ"
      }
    },
    {
      "cell_type": "markdown",
      "source": [
        "## Imports"
      ],
      "metadata": {
        "id": "4fJsWq9ExUOq"
      }
    },
    {
      "cell_type": "code",
      "execution_count": 6,
      "metadata": {
        "id": "sug9ulazc23Z"
      },
      "outputs": [],
      "source": [
        "import numpy as np  # to work with arrays\n",
        "import matplotlib.pyplot as plt  # to make figures\n",
        "\n",
        "# PyTorch\n",
        "import torch\n",
        "from torch import nn"
      ]
    },
    {
      "cell_type": "markdown",
      "source": [
        "## Detect available device"
      ],
      "metadata": {
        "id": "BPGdvE0WxZ7S"
      }
    },
    {
      "cell_type": "code",
      "source": [
        "device = \"cuda\" if torch.cuda.is_available() else \"cpu\"\n",
        "print(f\"Using {device} device\")"
      ],
      "metadata": {
        "colab": {
          "base_uri": "https://localhost:8080/"
        },
        "id": "NYSalFEpensc",
        "outputId": "31c5b97a-7379-4462-c6c8-3f701ae9ed39"
      },
      "execution_count": 7,
      "outputs": [
        {
          "output_type": "stream",
          "name": "stdout",
          "text": [
            "Using cpu device\n"
          ]
        }
      ]
    },
    {
      "cell_type": "markdown",
      "source": [
        "## Definition of an activation function and its derivatives"
      ],
      "metadata": {
        "id": "D2y-KCVyxqLZ"
      }
    },
    {
      "cell_type": "code",
      "source": [
        "def f0(x):\n",
        "    return torch.tanh(x)\n",
        "  \n",
        "def f1(x):\n",
        "  return 1/torch.cosh(x)**2\n",
        "  \n",
        "def f2(x):\n",
        "  return -2*torch.sinh(x)/torch.cosh(x)**3"
      ],
      "metadata": {
        "id": "QUpOyMlelHPb"
      },
      "execution_count": 8,
      "outputs": []
    },
    {
      "cell_type": "markdown",
      "source": [
        "## Class for the perceptron-wavefunction "
      ],
      "metadata": {
        "id": "LhfjjwNGyB_-"
      }
    },
    {
      "cell_type": "code",
      "source": [
        "class WaveFunction(nn.Module):\n",
        "\n",
        "  def __init__(self, N, layersizes):\n",
        "    self.N = N  # size of the input vector\n",
        "    self.layersizes = layersizes  # sizes of hidden layers\n",
        "    self.l = len(self.layersizes)  # number of hidden layers\n",
        "\n",
        "    super(WaveFunction, self).__init__()\n",
        "        \n",
        "    self.linear_tanh_stack = nn.Sequential()\n",
        "    for i in range(self.l + 1):\n",
        "      if i == 0:\n",
        "        self.linear_tanh_stack.append(nn.Linear(N, self.layersizes[i]))\n",
        "      elif i == self.l:\n",
        "        self.linear_tanh_stack.append(nn.Linear(self.layersizes[i-1], 1))\n",
        "      else:\n",
        "        self.linear_tanh_stack.append(nn.Linear(self.layersizes[i-1],\n",
        "                                                self.layersizes[i]))\n",
        "      self.linear_tanh_stack.append(nn.Tanh())\n",
        "    \n",
        "    self.h = [None] * (self.l + 1)  # outputs of the layers\n",
        "\n",
        "  \n",
        "  def forward(self, x):\n",
        "    for i in range(self.l + 1):\n",
        "      if i == 0:\n",
        "        self.h[i] = self.linear_tanh_stack[2*i+1](\n",
        "            self.linear_tanh_stack[2*i](x))\n",
        "      else:\n",
        "        self.h[i] = self.linear_tanh_stack[2*i+1](\n",
        "            self.linear_tanh_stack[2*i](self.h[i-1]))\n",
        "      \n",
        "    return self.h[-1]\n",
        "\n",
        "\n",
        "  def grad(self, x):\n",
        "    \"\"\"\n",
        "    finds the gradient of the wave function at a given point x\n",
        "    \"\"\"\n",
        "    _ = self.forward(x)  # computes outputs of the layers #\n",
        "    gradient = torch.zeros(x.shape) #[None] * self.N #\n",
        "    for t in range(self.N):\n",
        "      dh_dx = torch.zeros(self.N).to(device) #\n",
        "      dh_dx[t] = 1 # \n",
        "\n",
        "      for i in range(self.l + 1):\n",
        "        w = self.linear_tanh_stack[2*i].weight\n",
        "        b = self.linear_tanh_stack[2*i].bias\n",
        "\n",
        "        if i == 0:\n",
        "          dh_dx = f1(x @ w.T + b) * (dh_dx @ w.T)\n",
        "        else:\n",
        "          dh_dx = f1(self.h[i-1] @ w.T + b) * (dh_dx @ w.T)   \n",
        "        \n",
        "      # print(dh_dx.shape, gradient[t].shape)\n",
        "      \n",
        "      gradient[:,t] = dh_dx.reshape(-1)\n",
        "\n",
        "    return gradient\n",
        "  \n",
        "\n",
        "  def laplac(self, x):\n",
        "    \"\"\"\n",
        "    finds the Laplacian of the wave function at a given point x\n",
        "    \"\"\"\n",
        "    y = self.forward(x)  # computes outputs of the layers\n",
        "    laplacian = 0.0\n",
        "    for t in range(self.N):\n",
        "      dh_dx = torch.zeros(self.N).to(device)\n",
        "      dh_dx[t] = 1\n",
        "\n",
        "      d2h_dx2 = torch.zeros(self.N).to(device)\n",
        "\n",
        "      for i in range(self.l + 1):\n",
        "        w = self.linear_tanh_stack[2*i].weight\n",
        "        b = self.linear_tanh_stack[2*i].bias\n",
        "\n",
        "        # firstly, the new value of the second derivative computes as it is \n",
        "        # used the previous value of the first derivative\n",
        "\n",
        "        if i == 0:\n",
        "          d2h_dx2 = f2(x @ w.T + b) * (dh_dx @ w.T)**2\n",
        "        else:\n",
        "          d2h_dx2 = f2(self.h[i-1] @ w.T + b) * (dh_dx @ w.T)**2\\\n",
        "                    + f1(self.h[i-1] @ w.T + b) * (d2h_dx2 @ w.T)\n",
        "\n",
        "        if i == 0:\n",
        "          dh_dx = f1(x @ w.T + b) * (dh_dx @ w.T)\n",
        "        else:\n",
        "          dh_dx = f1(self.h[i-1] @ w.T + b) * (dh_dx @ w.T) \n",
        "      \n",
        "      # print(d2h_dx2)\n",
        "      laplacian += d2h_dx2\n",
        "    \n",
        "    return laplacian"
      ],
      "metadata": {
        "id": "_QiDWtWDfBVM"
      },
      "execution_count": 9,
      "outputs": []
    },
    {
      "cell_type": "code",
      "source": [
        "def A(x_):\n",
        "  p = torch.ones(x_.shape[0]).to(device)\n",
        "\n",
        "  for i in range(x_.shape[1]):\n",
        "    p *= (x_[:,i] - 1/2)**2-1/4\n",
        "\n",
        "  return p\n",
        "  \n",
        "def Ax(x_):\n",
        "  p = torch.ones(x_.shape).to(device)\n",
        "\n",
        "  for i in range(x_.shape[1]):\n",
        "    p[:, i] = A(x_) * 2 * (x_[:,i] - 1/2) / ((x_[:,i] - 1/2)**2-1/4)\n",
        "\n",
        "  return p\n",
        "  \n",
        "def Axx(x_):\n",
        "  return 2 * A(x_) * torch.sum( ((x_ - 1/2)**2 - 1/4)**(-1), axis=1 )\n",
        "\n",
        "def train_loop(N, N_batch, M, wf, optimizer, eigval):\n",
        "  \"\"\"\n",
        "  N --- a size of the input vector, its dimension\n",
        "  M --- total number of iterations\n",
        "  \"\"\"\n",
        "\n",
        "  loss_fn = nn.L1Loss()\n",
        "  \n",
        "  for i in range(M):\n",
        "    x_test = torch.rand((N_batch, N)).to(device)\n",
        "\n",
        "    phi_test = wf(x_test).reshape(len(x_test)).to(device)\n",
        "    phix_test = wf.grad(x_test).to(device)\n",
        "    phixx_test = wf.laplac(x_test).reshape(len(x_test)).to(device)\n",
        "\n",
        "    # если задавать нужное значение энергии, то всё получается\n",
        "    I = torch.mean( (phixx_test * A(x_test) \\\n",
        "                     + 2 * torch.sum(Ax(x_test) * phix_test, axis=1) \\\n",
        "                     + Axx(x_test) * phi_test \\\n",
        "                     + eigval*phi_test*A(x_test))**2 )\n",
        "\n",
        "    # Compute loss\n",
        "    loss = loss_fn(I, torch.tensor(0.0, device=device))\n",
        "\n",
        "    # Backpropagation\n",
        "    optimizer.zero_grad()\n",
        "    loss.backward()\n",
        "    optimizer.step()\n",
        "\n",
        "    if np.isnan(loss.item()):\n",
        "      print(f'{i:} LOSS FUNCTION IS NAN')\n",
        "      break\n",
        "\n",
        "    if (i+1) % 100 == 0:\n",
        "      print(f\"Residual: {loss.item():>0.4E} [{i+1:>5d} / {M:>5d}]\")"
      ],
      "metadata": {
        "id": "E2nA40qcyv_P"
      },
      "execution_count": 10,
      "outputs": []
    },
    {
      "cell_type": "markdown",
      "source": [
        "# 1D"
      ],
      "metadata": {
        "id": "clMQSN9tOQDm"
      }
    },
    {
      "cell_type": "code",
      "source": [
        "def plot_compar_1d(wf):\n",
        "  x = torch.linspace(1e-2,1-1e-2,100).reshape((-1, N)).to(device)\n",
        "  y = wf(x) * A(x).reshape((-1,N))\n",
        "\n",
        "  x = x.cpu().detach().numpy()\n",
        "  y = y.cpu().detach().numpy()\n",
        "\n",
        "  plt.plot(x, (y/y.mean())**2,\n",
        "           label='What we get')\n",
        "  \n",
        "  plt.plot(x, (np.sin(x*np.pi)/np.sin(x*np.pi).mean())**2,\n",
        "           label='What we should get')\n",
        "\n",
        "  plt.legend()\n",
        "  plt.xlim(0,1)\n",
        "  plt.ylim(0.0,None)\n",
        "\n",
        "  plt.show()"
      ],
      "metadata": {
        "id": "u4Oq4oeEJqBF"
      },
      "execution_count": 11,
      "outputs": []
    },
    {
      "cell_type": "markdown",
      "source": [
        "## Initialization of our wavefunction"
      ],
      "metadata": {
        "id": "K5CT__3bgwAy"
      }
    },
    {
      "cell_type": "code",
      "source": [
        "N = 1  # size of the input vector\n",
        "wf = WaveFunction(N, [10]*3).to(device) ## число внутренних слоёв должно быть той же четности, что и номер состояния"
      ],
      "metadata": {
        "id": "HbIunsoysKkA"
      },
      "execution_count": 31,
      "outputs": []
    },
    {
      "cell_type": "markdown",
      "source": [
        "## Its training"
      ],
      "metadata": {
        "id": "2WrEWGrgOVDf"
      }
    },
    {
      "cell_type": "code",
      "source": [
        "optimizer = torch.optim.Adam(params = wf.parameters(), lr=1e-2)\n",
        "scheduler = torch.optim.lr_scheduler.ExponentialLR(optimizer, gamma=0.9)\n",
        "epochs = 3\n",
        "for t in range(epochs):\n",
        "  print(f\"\\n Epoch {t+1}\\n-------------------------------\")\n",
        "  train_loop(N, 10, 1000, wf, optimizer, np.pi**2)\n",
        "  scheduler.step()\n",
        "\n",
        "  if (t+1) % 5 == 0 or t == 0:\n",
        "    plot_compar_1d(wf)"
      ],
      "metadata": {
        "id": "XLs3Ebluumdr",
        "colab": {
          "base_uri": "https://localhost:8080/",
          "height": 943
        },
        "outputId": "8ec8fd25-1a76-4964-86fa-920ff68d8085"
      },
      "execution_count": 32,
      "outputs": [
        {
          "output_type": "stream",
          "name": "stdout",
          "text": [
            "\n",
            " Epoch 1\n",
            "-------------------------------\n",
            "Residual: 2.9348E-08 [  100 /  1000]\n",
            "Residual: 4.5578E-08 [  200 /  1000]\n",
            "Residual: 1.0445E-08 [  300 /  1000]\n",
            "Residual: 6.7300E-08 [  400 /  1000]\n",
            "Residual: 3.2252E-09 [  500 /  1000]\n",
            "Residual: 7.7635E-09 [  600 /  1000]\n",
            "Residual: 8.1371E-09 [  700 /  1000]\n",
            "Residual: 2.9964E-08 [  800 /  1000]\n",
            "Residual: 9.1661E-09 [  900 /  1000]\n",
            "Residual: 7.3867E-07 [ 1000 /  1000]\n"
          ]
        },
        {
          "output_type": "display_data",
          "data": {
            "text/plain": [
              "<Figure size 432x288 with 1 Axes>"
            ],
            "image/png": "[encoded data removed]"
          },
          "metadata": {
            "needs_background": "light"
          }
        },
        {
          "output_type": "stream",
          "name": "stdout",
          "text": [
            "\n",
            " Epoch 2\n",
            "-------------------------------\n",
            "Residual: 1.6642E-07 [  100 /  1000]\n",
            "Residual: 5.2303E-09 [  200 /  1000]\n",
            "Residual: 4.7388E-08 [  300 /  1000]\n",
            "Residual: 1.2791E-07 [  400 /  1000]\n",
            "Residual: 4.5098E-10 [  500 /  1000]\n",
            "Residual: 8.3257E-08 [  600 /  1000]\n",
            "Residual: 2.4208E-08 [  700 /  1000]\n",
            "Residual: 9.5885E-08 [  800 /  1000]\n",
            "Residual: 6.6406E-05 [  900 /  1000]\n",
            "Residual: 2.0651E-07 [ 1000 /  1000]\n",
            "\n",
            " Epoch 3\n",
            "-------------------------------\n",
            "Residual: 9.5259E-09 [  100 /  1000]\n",
            "Residual: 1.6521E-09 [  200 /  1000]\n",
            "Residual: 2.7459E-09 [  300 /  1000]\n",
            "Residual: 8.9759E-10 [  400 /  1000]\n",
            "Residual: 4.6825E-11 [  500 /  1000]\n",
            "Residual: 1.0229E-10 [  600 /  1000]\n",
            "Residual: 2.7734E-09 [  700 /  1000]\n",
            "Residual: 9.2892E-11 [  800 /  1000]\n",
            "Residual: 2.6772E-10 [  900 /  1000]\n",
            "Residual: 5.8493E-11 [ 1000 /  1000]\n"
          ]
        }
      ]
    },
    {
      "cell_type": "code",
      "source": [
        "plot_compar_1d(wf)"
      ],
      "metadata": {
        "colab": {
          "base_uri": "https://localhost:8080/",
          "height": 266
        },
        "id": "xeKJrxfKPFdm",
        "outputId": "9d6f372d-d9e7-4bf2-cc4a-c040424b69df"
      },
      "execution_count": 33,
      "outputs": [
        {
          "output_type": "display_data",
          "data": {
            "text/plain": [
              "<Figure size 432x288 with 1 Axes>"
            ],
            "image/png": "[encoded data removed]"
          },
          "metadata": {
            "needs_background": "light"
          }
        }
      ]
    },
    {
      "cell_type": "markdown",
      "source": [
        "# 2D"
      ],
      "metadata": {
        "id": "aK4e4bOIOrb6"
      }
    },
    {
      "cell_type": "code",
      "source": [
        "def plot_compare_2d(wf):\n",
        "  n = 100 # number of points over one dimension\n",
        "  x = np.linspace(0,1,n)\n",
        "  xs, ys = np.meshgrid(x,x, sparse=True)\n",
        "  \n",
        "  X = np.array([[xs[0,i], ys[j,0]] for i in range(100) for j in range(100)])\n",
        "  X = torch.tensor(X).to(device)\n",
        "\n",
        "  phi = wf(X.float()) * A(X.float())\n",
        "  sin = torch.sin(np.pi*X[:,0].float())*torch.sin(np.pi*X[:,1].float())\n",
        "\n",
        "  fig, ax = plt.subplots(1, 2, figsize=(14,5))\n",
        "\n",
        "  pcm0 = ax[0].contourf(x, x, phi.reshape(100,100).cpu().detach().numpy()**2)\n",
        "\n",
        "  fig.colorbar(pcm0, ax=ax[0], extend='max')\n",
        "\n",
        "  pcm1 = ax[1].contourf(x, x, sin.reshape(100,100).cpu().detach().numpy()**2)\n",
        "\n",
        "  fig.colorbar(pcm1, ax=ax[1], extend='max')\n",
        "\n",
        "  ax[0].set_xlabel(r'$x_1$')\n",
        "  ax[0].set_ylabel(r'$x_2$')\n",
        "\n",
        "  ax[1].set_xlabel(r'$x_1$')\n",
        "  ax[1].set_ylabel(r'$x_2$')\n",
        "\n",
        "  ax[0].set_title(r'What $|\\psi|^2$ we get')\n",
        "  ax[1].set_title(r'What $|\\psi|^2$ we should get')\n",
        "\n",
        "  plt.show()"
      ],
      "metadata": {
        "id": "mWuKqa9Y00SU"
      },
      "execution_count": 19,
      "outputs": []
    },
    {
      "cell_type": "code",
      "source": [
        "N = 2\n",
        "wf = WaveFunction(N, [10**N]*3).to(device) "
      ],
      "metadata": {
        "id": "nSZqAJGk2wbL"
      },
      "execution_count": 25,
      "outputs": []
    },
    {
      "cell_type": "code",
      "source": [
        "optimizer = torch.optim.Adam(params = wf.parameters(), lr=1e-2)\n",
        "scheduler = torch.optim.lr_scheduler.ExponentialLR(optimizer, gamma=0.9)\n",
        "epochs = 5\n",
        "for t in range(epochs):\n",
        "  print(f\"\\n Epoch {t+1}\\n-------------------------------\")\n",
        "  train_loop(N, 10**N, 1000, wf, optimizer, 2*np.pi**2)\n",
        "  scheduler.step()\n",
        "\n",
        "  # if (t+1) % 5 == 0 or t == 0:\n",
        "  #   # print('AAAAA')\n",
        "  #   plot_compare_2d(wf)"
      ],
      "metadata": {
        "colab": {
          "base_uri": "https://localhost:8080/"
        },
        "id": "fgpIz3bX23mI",
        "outputId": "7e4dc01b-5646-491e-9d7c-bf485a8bff40"
      },
      "execution_count": 26,
      "outputs": [
        {
          "output_type": "stream",
          "name": "stdout",
          "text": [
            "\n",
            " Epoch 1\n",
            "-------------------------------\n",
            "Residual: 2.3001E-07 [  100 /  1000]\n",
            "Residual: 1.2542E-08 [  200 /  1000]\n",
            "Residual: 1.2400E-08 [  300 /  1000]\n",
            "Residual: 9.1294E-09 [  400 /  1000]\n",
            "Residual: 6.9157E-09 [  500 /  1000]\n",
            "Residual: 3.1271E-08 [  600 /  1000]\n",
            "Residual: 8.6450E-09 [  700 /  1000]\n",
            "Residual: 1.5279E-05 [  800 /  1000]\n",
            "Residual: 8.7244E-05 [  900 /  1000]\n",
            "Residual: 1.5014E-07 [ 1000 /  1000]\n",
            "\n",
            " Epoch 2\n",
            "-------------------------------\n",
            "Residual: 6.9489E-09 [  100 /  1000]\n",
            "Residual: 1.0460E-09 [  200 /  1000]\n",
            "Residual: 5.1697E-09 [  300 /  1000]\n",
            "Residual: 4.4828E-09 [  400 /  1000]\n",
            "Residual: 7.5485E-09 [  500 /  1000]\n",
            "Residual: 5.9466E-08 [  600 /  1000]\n",
            "Residual: 6.9938E-08 [  700 /  1000]\n",
            "Residual: 1.6558E-09 [  800 /  1000]\n",
            "Residual: 1.2913E-09 [  900 /  1000]\n",
            "Residual: 6.7054E-07 [ 1000 /  1000]\n",
            "\n",
            " Epoch 3\n",
            "-------------------------------\n",
            "Residual: 1.8389E-08 [  100 /  1000]\n",
            "Residual: 9.7632E-08 [  200 /  1000]\n",
            "Residual: 1.0815E-04 [  300 /  1000]\n",
            "Residual: 1.6924E-09 [  400 /  1000]\n",
            "Residual: 4.3061E-11 [  500 /  1000]\n",
            "Residual: 3.4662E-11 [  600 /  1000]\n",
            "Residual: 6.9777E-11 [  700 /  1000]\n",
            "Residual: 3.5175E-11 [  800 /  1000]\n",
            "Residual: 3.5661E-11 [  900 /  1000]\n",
            "Residual: 2.0197E-11 [ 1000 /  1000]\n",
            "\n",
            " Epoch 4\n",
            "-------------------------------\n",
            "Residual: 4.6636E-11 [  100 /  1000]\n",
            "Residual: 2.4258E-11 [  200 /  1000]\n",
            "Residual: 4.7487E-10 [  300 /  1000]\n",
            "Residual: 7.7332E-09 [  400 /  1000]\n",
            "Residual: 3.5150E-07 [  500 /  1000]\n",
            "Residual: 5.2569E-06 [  600 /  1000]\n",
            "Residual: 1.1678E-08 [  700 /  1000]\n",
            "Residual: 3.1187E-09 [  800 /  1000]\n",
            "Residual: 1.5806E-07 [  900 /  1000]\n",
            "Residual: 5.4681E-08 [ 1000 /  1000]\n",
            "\n",
            " Epoch 5\n",
            "-------------------------------\n",
            "Residual: 1.5504E-09 [  100 /  1000]\n",
            "Residual: 2.4323E-09 [  200 /  1000]\n",
            "Residual: 4.3313E-07 [  300 /  1000]\n",
            "Residual: 1.6593E-06 [  400 /  1000]\n",
            "Residual: 3.5478E-08 [  500 /  1000]\n",
            "Residual: 2.0740E-09 [  600 /  1000]\n",
            "Residual: 3.1373E-10 [  700 /  1000]\n",
            "Residual: 2.5403E-09 [  800 /  1000]\n",
            "Residual: 2.2342E-05 [  900 /  1000]\n",
            "Residual: 1.0999E-09 [ 1000 /  1000]\n"
          ]
        }
      ]
    },
    {
      "cell_type": "markdown",
      "source": [
        "# 3D"
      ],
      "metadata": {
        "id": "AknW_La_6snb"
      }
    },
    {
      "cell_type": "code",
      "source": [
        "N = 3\n",
        "wf = WaveFunction(N, [100]*3).to(device)  # <--- here you should consider a case\n",
        "# when 100 -> 10**N"
      ],
      "metadata": {
        "id": "fODVYryp68rs"
      },
      "execution_count": 27,
      "outputs": []
    },
    {
      "cell_type": "code",
      "source": [
        "optimizer = torch.optim.Adam(params = wf.parameters(), lr=1e-2)\n",
        "scheduler = torch.optim.lr_scheduler.ExponentialLR(optimizer, gamma=0.9)\n",
        "epochs = 5\n",
        "for t in range(epochs):\n",
        "  print(f\"\\n Epoch {t+1}\\n-------------------------------\")\n",
        "  train_loop(N, 10**N, 500, wf, optimizer, 3*np.pi**2)\n",
        "  scheduler.step()"
      ],
      "metadata": {
        "colab": {
          "base_uri": "https://localhost:8080/"
        },
        "id": "Z5A3WKY_6yiJ",
        "outputId": "9cd982e4-e597-48c3-96ce-b3a3b6961850"
      },
      "execution_count": 29,
      "outputs": [
        {
          "output_type": "stream",
          "name": "stdout",
          "text": [
            "\n",
            " Epoch 1\n",
            "-------------------------------\n",
            "Residual: 3.4798E-09 [  100 /   500]\n",
            "Residual: 4.2209E-10 [  200 /   500]\n",
            "Residual: 2.9368E-10 [  300 /   500]\n",
            "Residual: 2.0778E-10 [  400 /   500]\n",
            "Residual: 1.6017E-10 [  500 /   500]\n",
            "\n",
            " Epoch 2\n",
            "-------------------------------\n",
            "Residual: 1.3491E-10 [  100 /   500]\n",
            "Residual: 1.1608E-10 [  200 /   500]\n",
            "Residual: 1.6264E-10 [  300 /   500]\n",
            "Residual: 9.3999E-11 [  400 /   500]\n",
            "Residual: 2.8959E-10 [  500 /   500]\n",
            "\n",
            " Epoch 3\n",
            "-------------------------------\n",
            "Residual: 1.1627E-10 [  100 /   500]\n",
            "Residual: 1.0192E-09 [  200 /   500]\n",
            "Residual: 2.8106E-09 [  300 /   500]\n",
            "Residual: 1.3821E-10 [  400 /   500]\n",
            "Residual: 2.8692E-11 [  500 /   500]\n",
            "\n",
            " Epoch 4\n",
            "-------------------------------\n",
            "Residual: 2.5158E-11 [  100 /   500]\n",
            "Residual: 2.5107E-11 [  200 /   500]\n",
            "Residual: 2.3204E-11 [  300 /   500]\n",
            "Residual: 2.3592E-11 [  400 /   500]\n",
            "Residual: 1.8381E-11 [  500 /   500]\n",
            "\n",
            " Epoch 5\n",
            "-------------------------------\n",
            "Residual: 1.7458E-11 [  100 /   500]\n",
            "Residual: 1.6552E-11 [  200 /   500]\n",
            "Residual: 1.5623E-11 [  300 /   500]\n",
            "Residual: 1.7237E-11 [  400 /   500]\n",
            "Residual: 1.4784E-11 [  500 /   500]\n"
          ]
        }
      ]
    },
    {
      "cell_type": "code",
      "source": [],
      "metadata": {
        "id": "Mql1r0LL63vK"
      },
      "execution_count": null,
      "outputs": []
    }
  ]
}