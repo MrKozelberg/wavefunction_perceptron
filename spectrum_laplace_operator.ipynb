{
  "nbformat": 4,
  "nbformat_minor": 0,
  "metadata": {
    "colab": {
      "provenance": [],
      "collapsed_sections": [],
      "authorship_tag": "ABX9TyOOfbx8Z4SLZoBJf684CeYx",
      "include_colab_link": true
    },
    "kernelspec": {
      "name": "python3",
      "display_name": "Python 3"
    },
    "language_info": {
      "name": "python"
    },
    "accelerator": "GPU"
  },
  "cells": [
    {
      "cell_type": "markdown",
      "metadata": {
        "id": "view-in-github",
        "colab_type": "text"
      },
      "source": [
        "<a href=\"https://colab.research.google.com/github/MrKozelberg/wavefunction_perceptron/blob/spectrum_laplace_operator/spectrum_laplace_operator.ipynb\" target=\"_parent\"><img src=\"https://colab.research.google.com/assets/colab-badge.svg\" alt=\"Open In Colab\"/></a>"
      ]
    },
    {
      "cell_type": "markdown",
      "source": [
        "# Applying the perceptron to the Laplace operator's eigen-problem"
      ],
      "metadata": {
        "id": "elXP-wUBurqQ"
      }
    },
    {
      "cell_type": "markdown",
      "source": [
        "## Imports"
      ],
      "metadata": {
        "id": "4fJsWq9ExUOq"
      }
    },
    {
      "cell_type": "code",
      "execution_count": 368,
      "metadata": {
        "id": "sug9ulazc23Z"
      },
      "outputs": [],
      "source": [
        "import numpy as np  # to work with arrays\n",
        "import matplotlib.pyplot as plt  # to make figures\n",
        "\n",
        "# PyTorch\n",
        "import torch\n",
        "from torch import nn"
      ]
    },
    {
      "cell_type": "markdown",
      "source": [
        "## Detect available device"
      ],
      "metadata": {
        "id": "BPGdvE0WxZ7S"
      }
    },
    {
      "cell_type": "code",
      "source": [
        "device = \"cuda\" if torch.cuda.is_available() else \"cpu\"\n",
        "print(f\"Using {device} device\")"
      ],
      "metadata": {
        "colab": {
          "base_uri": "https://localhost:8080/"
        },
        "id": "NYSalFEpensc",
        "outputId": "de521425-f9cc-429b-8c19-c68d57e9fd1f"
      },
      "execution_count": 366,
      "outputs": [
        {
          "output_type": "stream",
          "name": "stdout",
          "text": [
            "Using cpu device\n"
          ]
        }
      ]
    },
    {
      "cell_type": "markdown",
      "source": [
        "## Definition of an activation function and its derivatives"
      ],
      "metadata": {
        "id": "D2y-KCVyxqLZ"
      }
    },
    {
      "cell_type": "code",
      "source": [
        "def f0(x):\n",
        "    return torch.tanh(x)\n",
        "  \n",
        "def f1(x):\n",
        "  return 1/torch.cosh(x)**2\n",
        "  \n",
        "def f2(x):\n",
        "  return -2*torch.sinh(x)/torch.cosh(x)**3"
      ],
      "metadata": {
        "id": "QUpOyMlelHPb"
      },
      "execution_count": 367,
      "outputs": []
    },
    {
      "cell_type": "markdown",
      "source": [
        "## Class for the perceptron-wavefunction "
      ],
      "metadata": {
        "id": "LhfjjwNGyB_-"
      }
    },
    {
      "cell_type": "code",
      "source": [
        "class WaveFunction(nn.Module):\n",
        "\n",
        "  def __init__(self, N, layersizes):\n",
        "    self.N = N  # size of the input vector\n",
        "    self.layersizes = layersizes  # sizes of hidden layers\n",
        "    self.l = len(self.layersizes)  # number of hidden layers\n",
        "\n",
        "    super(WaveFunction, self).__init__()\n",
        "        \n",
        "    self.linear_tanh_stack = nn.Sequential()\n",
        "    for i in range(self.l + 1):\n",
        "      if i == 0:\n",
        "        self.linear_tanh_stack.append(nn.Linear(N, self.layersizes[i]))\n",
        "      elif i == self.l:\n",
        "        self.linear_tanh_stack.append(nn.Linear(self.layersizes[i-1], 1))\n",
        "      else:\n",
        "        self.linear_tanh_stack.append(nn.Linear(self.layersizes[i-1],\n",
        "                                                self.layersizes[i]))\n",
        "      self.linear_tanh_stack.append(nn.Tanh())\n",
        "    \n",
        "    self.h = [None] * (self.l + 1)  # outputs of the layers\n",
        "\n",
        "  \n",
        "  def forward(self, x):\n",
        "    for i in range(self.l + 1):\n",
        "      if i == 0:\n",
        "        self.h[i] = self.linear_tanh_stack[2*i+1](\n",
        "            self.linear_tanh_stack[2*i](x))\n",
        "      else:\n",
        "        self.h[i] = self.linear_tanh_stack[2*i+1](\n",
        "            self.linear_tanh_stack[2*i](self.h[i-1]))\n",
        "      \n",
        "    return self.h[-1]\n",
        "\n",
        "\n",
        "  def grad(self, x):\n",
        "    \"\"\"\n",
        "    finds the gradient of the wave function at a given point x\n",
        "    \"\"\"\n",
        "    _ = self.forward(x)  # computes outputs of the layers #\n",
        "    gradient = torch.zeros(x.shape) #[None] * self.N #\n",
        "    for t in range(self.N):\n",
        "      dh_dx = torch.zeros(self.N) #\n",
        "      dh_dx[t] = 1 # \n",
        "\n",
        "      for i in range(self.l + 1):\n",
        "        w = self.linear_tanh_stack[2*i].weight\n",
        "        b = self.linear_tanh_stack[2*i].bias\n",
        "\n",
        "        if i == 0:\n",
        "          dh_dx = f1(x @ w.T + b) * (dh_dx @ w.T)\n",
        "        else:\n",
        "          dh_dx = f1(self.h[i-1] @ w.T + b) * (dh_dx @ w.T)   \n",
        "        \n",
        "      # print(dh_dx.shape, gradient[t].shape)\n",
        "      \n",
        "      gradient[:,t] = dh_dx.reshape(-1)\n",
        "\n",
        "    return gradient\n",
        "  \n",
        "\n",
        "  def laplac(self, x):\n",
        "    \"\"\"\n",
        "    finds the Laplacian of the wave function at a given point x\n",
        "    \"\"\"\n",
        "    y = self.forward(x)  # computes outputs of the layers\n",
        "    laplacian = 0.0\n",
        "    for t in range(self.N):\n",
        "      dh_dx = torch.zeros(self.N)\n",
        "      dh_dx[t] = 1\n",
        "\n",
        "      d2h_dx2 = torch.zeros(self.N)\n",
        "\n",
        "      for i in range(self.l + 1):\n",
        "        w = self.linear_tanh_stack[2*i].weight\n",
        "        b = self.linear_tanh_stack[2*i].bias\n",
        "\n",
        "        # firstly, the new value of the second derivative computes as it is \n",
        "        # used the previous value of the first derivative\n",
        "\n",
        "        if i == 0:\n",
        "          d2h_dx2 = f2(x @ w.T + b) * (dh_dx @ w.T)**2\n",
        "        else:\n",
        "          d2h_dx2 = f2(self.h[i-1] @ w.T + b) * (dh_dx @ w.T)**2\\\n",
        "                    + f1(self.h[i-1] @ w.T + b) * (d2h_dx2 @ w.T)\n",
        "\n",
        "        if i == 0:\n",
        "          dh_dx = f1(x @ w.T + b) * (dh_dx @ w.T)\n",
        "        else:\n",
        "          dh_dx = f1(self.h[i-1] @ w.T + b) * (dh_dx @ w.T) \n",
        "      \n",
        "      # print(d2h_dx2)\n",
        "      laplacian += d2h_dx2\n",
        "    \n",
        "    return laplacian"
      ],
      "metadata": {
        "id": "_QiDWtWDfBVM"
      },
      "execution_count": 369,
      "outputs": []
    },
    {
      "cell_type": "code",
      "source": [
        "# def A(x_):\n",
        "#   return torch.sum(torch.abs(x_ - 1/2) - 1/2, axis=1)\n",
        "  \n",
        "# def Ax(x_):\n",
        "#   return 2*torch.sign(x_-1/2)\n",
        "  \n",
        "# def Axx(x_):\n",
        "#   return 0.0\n",
        "\n",
        "def A(x_):\n",
        "  return torch.sum((x_ - 1/2)**2-1/4, axis=1)\n",
        "  \n",
        "def Ax(x_):\n",
        "  return 2*(x_-1/2)\n",
        "  \n",
        "def Axx(x_):\n",
        "  return 2.0\n",
        "\n",
        "def train_loop(N, N_batch, M, wf, optimizer):\n",
        "  \"\"\"\n",
        "  N --- a size of the input vector, its dimension\n",
        "  M --- total number of iterations\n",
        "  \"\"\"\n",
        "\n",
        "  loss_fn = nn.L1Loss()\n",
        "  alpha = 1.0\n",
        "  \n",
        "  for i in range(M):\n",
        "    x_test = torch.rand((N_batch, N), device=device)\n",
        "\n",
        "    phi_test = wf(x_test).reshape(len(x_test))\n",
        "    phix_test = wf.grad(x_test)\n",
        "    phixx_test = wf.laplac(x_test).reshape(len(x_test))\n",
        "\n",
        "    # если задавать нужное значение энергии, то всё получается\n",
        "    # I = torch.mean((phixx_test * A(x_test) + 2 * torch.sum(Ax(x_test) * phix_test, axis=1) + Axx(x_) * phi_test + np.pi**2*phi_test*A(x_test))**2)\n",
        "\n",
        "    I = -torch.mean((phixx_test * A(x_test) + 2 * torch.sum(Ax(x_test) * phix_test, axis=-1) + Axx(x_) * phi_test)/(phi_test*A(x_test))) + alpha * (torch.mean(torch.sum((phi_test*A(x_test))**2, axis=-1)) - 1.0)\n",
        "\n",
        "    # Compute loss\n",
        "    loss = loss_fn(I, torch.tensor(0.0, device=device))\n",
        "\n",
        "    # Backpropagation\n",
        "    optimizer.zero_grad()\n",
        "    loss.backward()\n",
        "    optimizer.step()\n",
        "\n",
        "    if (i+1) % 500 == 0:\n",
        "      # print(f\"Residual: {loss.item():>0.4E} [{i+1:>5d} / {M:>5d}]\")\n",
        "      print(f\"Mean local energy: {torch.mean((phixx_test * A(x_test) + 2 * torch.sum(Ax(x_test) * phix_test, axis=-1) + Axx(x_) * phi_test)/(phi_test*A(x_test))):>0.4E} [{i+1:>5d} / {M:>5d}]\")\n",
        "\n",
        "      # print(f\"Mean local energy: {loss.item():>0.4f}, Relative mean std error: {e_loc.std():>0.4f} [{i+1:>5d} / {M//N_batch:>5d}]\")"
      ],
      "metadata": {
        "id": "E2nA40qcyv_P"
      },
      "execution_count": 465,
      "outputs": []
    },
    {
      "cell_type": "markdown",
      "source": [
        "## Our wavefunction"
      ],
      "metadata": {
        "id": "K5CT__3bgwAy"
      }
    },
    {
      "cell_type": "code",
      "source": [
        "N = 1  # size of the input vector\n",
        "wf = WaveFunction(N, [10]*4).to(device) ## число внутренних слоёв должно быть той же четности, что и номер состояния"
      ],
      "metadata": {
        "id": "HbIunsoysKkA"
      },
      "execution_count": 466,
      "outputs": []
    },
    {
      "cell_type": "code",
      "source": [
        "optimizer = torch.optim.SGD(params = wf.parameters(), lr=1e-2)\n",
        "scheduler = torch.optim.lr_scheduler.ExponentialLR(optimizer, gamma=0.95)\n",
        "epochs = 50\n",
        "for t in range(epochs):\n",
        "  print(f\"\\n Epoch {t+1}\\n-------------------------------\")\n",
        "  train_loop(N, 20*(t+10)//10, 1000, wf, optimizer)\n",
        "  scheduler.step()\n",
        "\n",
        "  if (t + 1) % 10 == 0 or t == 0:\n",
        "    x_ = torch.linspace(0+1e-3,1-1e-3,100, device=device).reshape(100,1)\n",
        "    # y_ = wf(x_).detach().numpy() * A(x_.detach().numpy())\n",
        "    # plt.plot(x_, wf(x_).detach().numpy() / wf(x_).detach().numpy().mean(), label='What we have')\n",
        "    # plt.plot(x_, (torch.sin(x_*np.pi).reshape(-1) / A(x_).reshape(-1) / torch.mean(torch.sin(x_*np.pi).reshape(-1) / A(x_).reshape(-1))).detach().numpy(), label='What we should have')\n",
        "\n",
        "    y_ = (wf(x_).reshape(-1) * A(x_).reshape(-1)).detach().numpy()**2\n",
        "    plt.plot(x_, y_/ y_.mean(), label='What we have')\n",
        "    plt.plot(x_, ((torch.sin(x_*np.pi)**2).reshape(-1) / torch.mean((torch.sin(x_*np.pi)**2).reshape(-1))).detach().numpy(), label='What we should have')\n",
        "\n",
        "    plt.legend()\n",
        "    # plt.title(\"A(x)\")\n",
        "    plt.show()"
      ],
      "metadata": {
        "id": "XLs3Ebluumdr",
        "colab": {
          "base_uri": "https://localhost:8080/",
          "height": 789
        },
        "outputId": "01353c80-75a2-4f5d-e33d-f026715234ef"
      },
      "execution_count": 467,
      "outputs": [
        {
          "output_type": "stream",
          "name": "stdout",
          "text": [
            "\n",
            " Epoch 1\n",
            "-------------------------------\n",
            "Mean local energy: NAN [  500 /  1000]\n",
            "Mean local energy: NAN [ 1000 /  1000]\n"
          ]
        },
        {
          "output_type": "display_data",
          "data": {
            "text/plain": [
              "<Figure size 432x288 with 1 Axes>"
            ],
            "image/png": "[encoded data removed]"
          },
          "metadata": {
            "needs_background": "light"
          }
        },
        {
          "output_type": "stream",
          "name": "stdout",
          "text": [
            "\n",
            " Epoch 2\n",
            "-------------------------------\n",
            "Mean local energy: NAN [  500 /  1000]\n"
          ]
        },
        {
          "output_type": "error",
          "ename": "KeyboardInterrupt",
          "evalue": "ignored",
          "traceback": [
            "\u001b[0;31m---------------------------------------------------------------------------\u001b[0m",
            "\u001b[0;31mKeyboardInterrupt\u001b[0m                         Traceback (most recent call last)",
            "\u001b[0;32m<ipython-input-467-a696e0943061>\u001b[0m in \u001b[0;36m<module>\u001b[0;34m\u001b[0m\n\u001b[1;32m      4\u001b[0m \u001b[0;32mfor\u001b[0m \u001b[0mt\u001b[0m \u001b[0;32min\u001b[0m \u001b[0mrange\u001b[0m\u001b[0;34m(\u001b[0m\u001b[0mepochs\u001b[0m\u001b[0;34m)\u001b[0m\u001b[0;34m:\u001b[0m\u001b[0;34m\u001b[0m\u001b[0;34m\u001b[0m\u001b[0m\n\u001b[1;32m      5\u001b[0m   \u001b[0mprint\u001b[0m\u001b[0;34m(\u001b[0m\u001b[0;34mf\"\\n Epoch {t+1}\\n-------------------------------\"\u001b[0m\u001b[0;34m)\u001b[0m\u001b[0;34m\u001b[0m\u001b[0;34m\u001b[0m\u001b[0m\n\u001b[0;32m----> 6\u001b[0;31m   \u001b[0mtrain_loop\u001b[0m\u001b[0;34m(\u001b[0m\u001b[0mN\u001b[0m\u001b[0;34m,\u001b[0m \u001b[0;36m20\u001b[0m\u001b[0;34m*\u001b[0m\u001b[0;34m(\u001b[0m\u001b[0mt\u001b[0m\u001b[0;34m+\u001b[0m\u001b[0;36m10\u001b[0m\u001b[0;34m)\u001b[0m\u001b[0;34m//\u001b[0m\u001b[0;36m10\u001b[0m\u001b[0;34m,\u001b[0m \u001b[0;36m1000\u001b[0m\u001b[0;34m,\u001b[0m \u001b[0mwf\u001b[0m\u001b[0;34m,\u001b[0m \u001b[0moptimizer\u001b[0m\u001b[0;34m)\u001b[0m\u001b[0;34m\u001b[0m\u001b[0;34m\u001b[0m\u001b[0m\n\u001b[0m\u001b[1;32m      7\u001b[0m   \u001b[0mscheduler\u001b[0m\u001b[0;34m.\u001b[0m\u001b[0mstep\u001b[0m\u001b[0;34m(\u001b[0m\u001b[0;34m)\u001b[0m\u001b[0;34m\u001b[0m\u001b[0;34m\u001b[0m\u001b[0m\n\u001b[1;32m      8\u001b[0m \u001b[0;34m\u001b[0m\u001b[0m\n",
            "\u001b[0;32m<ipython-input-465-3e8844608267>\u001b[0m in \u001b[0;36mtrain_loop\u001b[0;34m(N, N_batch, M, wf, optimizer)\u001b[0m\n\u001b[1;32m     36\u001b[0m     \u001b[0;31m# I = torch.mean((phixx_test * A(x_test) + 2 * torch.sum(Ax(x_test) * phix_test, axis=1) + Axx(x_) * phi_test + np.pi**2*phi_test*A(x_test))**2)\u001b[0m\u001b[0;34m\u001b[0m\u001b[0;34m\u001b[0m\u001b[0;34m\u001b[0m\u001b[0m\n\u001b[1;32m     37\u001b[0m \u001b[0;34m\u001b[0m\u001b[0m\n\u001b[0;32m---> 38\u001b[0;31m     \u001b[0mI\u001b[0m \u001b[0;34m=\u001b[0m \u001b[0mtorch\u001b[0m\u001b[0;34m.\u001b[0m\u001b[0mmean\u001b[0m\u001b[0;34m(\u001b[0m\u001b[0;34m(\u001b[0m\u001b[0mphixx_test\u001b[0m \u001b[0;34m*\u001b[0m \u001b[0mA\u001b[0m\u001b[0;34m(\u001b[0m\u001b[0mx_test\u001b[0m\u001b[0;34m)\u001b[0m \u001b[0;34m+\u001b[0m \u001b[0;36m2\u001b[0m \u001b[0;34m*\u001b[0m \u001b[0mtorch\u001b[0m\u001b[0;34m.\u001b[0m\u001b[0msum\u001b[0m\u001b[0;34m(\u001b[0m\u001b[0mAx\u001b[0m\u001b[0;34m(\u001b[0m\u001b[0mx_test\u001b[0m\u001b[0;34m)\u001b[0m \u001b[0;34m*\u001b[0m \u001b[0mphix_test\u001b[0m\u001b[0;34m,\u001b[0m \u001b[0maxis\u001b[0m\u001b[0;34m=\u001b[0m\u001b[0;34m-\u001b[0m\u001b[0;36m1\u001b[0m\u001b[0;34m)\u001b[0m \u001b[0;34m+\u001b[0m \u001b[0mAxx\u001b[0m\u001b[0;34m(\u001b[0m\u001b[0mx_\u001b[0m\u001b[0;34m)\u001b[0m \u001b[0;34m*\u001b[0m \u001b[0mphi_test\u001b[0m\u001b[0;34m)\u001b[0m\u001b[0;34m**\u001b[0m\u001b[0;36m2\u001b[0m\u001b[0;34m/\u001b[0m\u001b[0;34m(\u001b[0m\u001b[0mphi_test\u001b[0m\u001b[0;34m*\u001b[0m\u001b[0mA\u001b[0m\u001b[0;34m(\u001b[0m\u001b[0mx_test\u001b[0m\u001b[0;34m)\u001b[0m\u001b[0;34m)\u001b[0m\u001b[0;34m**\u001b[0m\u001b[0;36m2\u001b[0m\u001b[0;34m)\u001b[0m \u001b[0;34m+\u001b[0m \u001b[0malpha\u001b[0m \u001b[0;34m*\u001b[0m \u001b[0;34m(\u001b[0m\u001b[0mtorch\u001b[0m\u001b[0;34m.\u001b[0m\u001b[0mmean\u001b[0m\u001b[0;34m(\u001b[0m\u001b[0mtorch\u001b[0m\u001b[0;34m.\u001b[0m\u001b[0msum\u001b[0m\u001b[0;34m(\u001b[0m\u001b[0;34m(\u001b[0m\u001b[0mphi_test\u001b[0m\u001b[0;34m*\u001b[0m\u001b[0mA\u001b[0m\u001b[0;34m(\u001b[0m\u001b[0mx_test\u001b[0m\u001b[0;34m)\u001b[0m\u001b[0;34m)\u001b[0m\u001b[0;34m**\u001b[0m\u001b[0;36m2\u001b[0m\u001b[0;34m,\u001b[0m \u001b[0maxis\u001b[0m\u001b[0;34m=\u001b[0m\u001b[0;34m-\u001b[0m\u001b[0;36m1\u001b[0m\u001b[0;34m)\u001b[0m\u001b[0;34m)\u001b[0m \u001b[0;34m-\u001b[0m \u001b[0;36m1.0\u001b[0m\u001b[0;34m)\u001b[0m\u001b[0;34m\u001b[0m\u001b[0;34m\u001b[0m\u001b[0m\n\u001b[0m\u001b[1;32m     39\u001b[0m \u001b[0;34m\u001b[0m\u001b[0m\n\u001b[1;32m     40\u001b[0m     \u001b[0;31m# Compute loss\u001b[0m\u001b[0;34m\u001b[0m\u001b[0;34m\u001b[0m\u001b[0;34m\u001b[0m\u001b[0m\n",
            "\u001b[0;32m/usr/local/lib/python3.7/dist-packages/torch/_tensor.py\u001b[0m in \u001b[0;36mwrapped\u001b[0;34m(*args, **kwargs)\u001b[0m\n\u001b[1;32m     30\u001b[0m             \u001b[0;32mif\u001b[0m \u001b[0mhas_torch_function\u001b[0m\u001b[0;34m(\u001b[0m\u001b[0margs\u001b[0m\u001b[0;34m)\u001b[0m\u001b[0;34m:\u001b[0m\u001b[0;34m\u001b[0m\u001b[0;34m\u001b[0m\u001b[0m\n\u001b[1;32m     31\u001b[0m                 \u001b[0;32mreturn\u001b[0m \u001b[0mhandle_torch_function\u001b[0m\u001b[0;34m(\u001b[0m\u001b[0mwrapped\u001b[0m\u001b[0;34m,\u001b[0m \u001b[0margs\u001b[0m\u001b[0;34m,\u001b[0m \u001b[0;34m*\u001b[0m\u001b[0margs\u001b[0m\u001b[0;34m,\u001b[0m \u001b[0;34m**\u001b[0m\u001b[0mkwargs\u001b[0m\u001b[0;34m)\u001b[0m\u001b[0;34m\u001b[0m\u001b[0;34m\u001b[0m\u001b[0m\n\u001b[0;32m---> 32\u001b[0;31m             \u001b[0;32mreturn\u001b[0m \u001b[0mf\u001b[0m\u001b[0;34m(\u001b[0m\u001b[0;34m*\u001b[0m\u001b[0margs\u001b[0m\u001b[0;34m,\u001b[0m \u001b[0;34m**\u001b[0m\u001b[0mkwargs\u001b[0m\u001b[0;34m)\u001b[0m\u001b[0;34m\u001b[0m\u001b[0;34m\u001b[0m\u001b[0m\n\u001b[0m\u001b[1;32m     33\u001b[0m         \u001b[0;32mexcept\u001b[0m \u001b[0mTypeError\u001b[0m\u001b[0;34m:\u001b[0m\u001b[0;34m\u001b[0m\u001b[0;34m\u001b[0m\u001b[0m\n\u001b[1;32m     34\u001b[0m             \u001b[0;32mreturn\u001b[0m \u001b[0mNotImplemented\u001b[0m\u001b[0;34m\u001b[0m\u001b[0;34m\u001b[0m\u001b[0m\n",
            "\u001b[0;31mKeyboardInterrupt\u001b[0m: "
          ]
        }
      ]
    },
    {
      "cell_type": "code",
      "source": [
        "x_ = torch.linspace(0+1e-3,1-1e-3,100, device=device).reshape(100,1)\n",
        "\n",
        "x_ = torch.vstack((x_.T, x_.T)).T\n",
        "    # y_ = wf(x_).detach().numpy() * A(x_.detach().numpy())\n",
        "    # plt.plot(x_, wf(x_).detach().numpy() / wf(x_).detach().numpy().mean(), label='What we have')\n",
        "    # plt.plot(x_, (torch.sin(x_*np.pi).reshape(-1) / A(x_).reshape(-1) / torch.mean(torch.sin(x_*np.pi).reshape(-1) / A(x_).reshape(-1))).detach().numpy(), label='What we should have')\n",
        "\n",
        "y_ = (wf(x_) * A(x_)).detach().numpy()**2\n",
        "plt.contourf(x_[:,0], x_[:,1], y_/ y_.mean(), label='What we have')\n",
        "\n",
        "plt.legend()\n",
        "# plt.title(\"A(x)\")\n",
        "plt.show()"
      ],
      "metadata": {
        "colab": {
          "base_uri": "https://localhost:8080/",
          "height": 317
        },
        "id": "tbgGcDGkmhNm",
        "outputId": "93fb04ad-8af7-4dfc-8b33-dc6e8f74c75a"
      },
      "execution_count": 413,
      "outputs": [
        {
          "output_type": "stream",
          "name": "stderr",
          "text": [
            "/usr/local/lib/python3.7/dist-packages/ipykernel_launcher.py:9: UserWarning: The following kwargs were not used by contour: 'label'\n",
            "  if __name__ == '__main__':\n",
            "WARNING:matplotlib.legend:No handles with labels found to put in legend.\n"
          ]
        },
        {
          "output_type": "display_data",
          "data": {
            "text/plain": [
              "<Figure size 432x288 with 1 Axes>"
            ],
            "image/png": "[encoded data removed]"
          },
          "metadata": {
            "needs_background": "light"
          }
        }
      ]
    }
  ]
}