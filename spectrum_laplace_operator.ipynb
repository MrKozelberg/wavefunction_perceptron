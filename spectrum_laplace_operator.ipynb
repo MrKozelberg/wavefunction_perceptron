{
  "nbformat": 4,
  "nbformat_minor": 0,
  "metadata": {
    "colab": {
      "provenance": [],
      "collapsed_sections": [],
      "authorship_tag": "ABX9TyOUwMfRh/A1yfYfv68QSbH/",
      "include_colab_link": true
    },
    "kernelspec": {
      "name": "python3",
      "display_name": "Python 3"
    },
    "language_info": {
      "name": "python"
    },
    "accelerator": "GPU"
  },
  "cells": [
    {
      "cell_type": "markdown",
      "metadata": {
        "id": "view-in-github",
        "colab_type": "text"
      },
      "source": [
        "<a href=\"https://colab.research.google.com/github/MrKozelberg/wavefunction_perceptron/blob/spectrum_laplace_operator/spectrum_laplace_operator.ipynb\" target=\"_parent\"><img src=\"https://colab.research.google.com/assets/colab-badge.svg\" alt=\"Open In Colab\"/></a>"
      ]
    },
    {
      "cell_type": "markdown",
      "source": [
        "# Applying the perceptron to the Laplace operator's eigen-problem"
      ],
      "metadata": {
        "id": "elXP-wUBurqQ"
      }
    },
    {
      "cell_type": "markdown",
      "source": [
        "## Imports"
      ],
      "metadata": {
        "id": "4fJsWq9ExUOq"
      }
    },
    {
      "cell_type": "code",
      "execution_count": null,
      "metadata": {
        "id": "sug9ulazc23Z"
      },
      "outputs": [],
      "source": [
        "import numpy as np  # to work with arrays\n",
        "import matplotlib.pyplot as plt  # to make figures\n",
        "\n",
        "# PyTorch\n",
        "import torch\n",
        "from torch import nn"
      ]
    },
    {
      "cell_type": "markdown",
      "source": [
        "## Detect available device"
      ],
      "metadata": {
        "id": "BPGdvE0WxZ7S"
      }
    },
    {
      "cell_type": "code",
      "source": [
        "device = \"cuda\" if torch.cuda.is_available() else \"cpu\"\n",
        "print(f\"Using {device} device\")"
      ],
      "metadata": {
        "colab": {
          "base_uri": "https://localhost:8080/"
        },
        "id": "NYSalFEpensc",
        "outputId": "6ed3c280-bdef-4b64-f19c-9a42bbacaf08"
      },
      "execution_count": null,
      "outputs": [
        {
          "output_type": "stream",
          "name": "stdout",
          "text": [
            "Using cuda device\n"
          ]
        }
      ]
    },
    {
      "cell_type": "markdown",
      "source": [
        "## Definition of an activation function and its derivatives"
      ],
      "metadata": {
        "id": "D2y-KCVyxqLZ"
      }
    },
    {
      "cell_type": "code",
      "source": [
        "def f0(x):\n",
        "    return torch.tanh(x)\n",
        "  \n",
        "def f1(x):\n",
        "  return 1/torch.cosh(x)**2\n",
        "  \n",
        "def f2(x):\n",
        "  return -2*torch.sinh(x)/torch.cosh(x)**3"
      ],
      "metadata": {
        "id": "QUpOyMlelHPb"
      },
      "execution_count": null,
      "outputs": []
    },
    {
      "cell_type": "markdown",
      "source": [
        "## Class for the perceptron-wavefunction "
      ],
      "metadata": {
        "id": "LhfjjwNGyB_-"
      }
    },
    {
      "cell_type": "code",
      "source": [
        "class WaveFunction(nn.Module):\n",
        "\n",
        "  def __init__(self, N, layersizes):\n",
        "    self.N = N  # size of the input vector\n",
        "    self.layersizes = layersizes  # sizes of hidden layers\n",
        "    self.l = len(self.layersizes)  # number of hidden layers\n",
        "\n",
        "    super(WaveFunction, self).__init__()\n",
        "        \n",
        "    self.linear_tanh_stack = nn.Sequential()\n",
        "    for i in range(self.l + 1):\n",
        "      if i == 0:\n",
        "        self.linear_tanh_stack.append(nn.Linear(N, self.layersizes[i]))\n",
        "      elif i == self.l:\n",
        "        self.linear_tanh_stack.append(nn.Linear(self.layersizes[i-1], 1))\n",
        "      else:\n",
        "        self.linear_tanh_stack.append(nn.Linear(self.layersizes[i-1],\n",
        "                                                self.layersizes[i]))\n",
        "      self.linear_tanh_stack.append(nn.Tanh())\n",
        "    \n",
        "    self.h = [None] * (self.l + 1)  # outputs of the layers\n",
        "\n",
        "  \n",
        "  def forward(self, x):\n",
        "    for i in range(self.l + 1):\n",
        "      if i == 0:\n",
        "        self.h[i] = self.linear_tanh_stack[2*i+1](\n",
        "            self.linear_tanh_stack[2*i](x))\n",
        "      else:\n",
        "        self.h[i] = self.linear_tanh_stack[2*i+1](\n",
        "            self.linear_tanh_stack[2*i](self.h[i-1]))\n",
        "      \n",
        "    return self.h[-1]\n",
        "\n",
        "\n",
        "  def grad(self, x):\n",
        "    \"\"\"\n",
        "    finds the gradient of the wave function at a given point x\n",
        "    \"\"\"\n",
        "    _ = self.forward(x)  # computes outputs of the layers #\n",
        "    gradient = torch.zeros(x.shape) #[None] * self.N #\n",
        "    for t in range(self.N):\n",
        "      dh_dx = torch.zeros(self.N).to(device) #\n",
        "      dh_dx[t] = 1 # \n",
        "\n",
        "      for i in range(self.l + 1):\n",
        "        w = self.linear_tanh_stack[2*i].weight\n",
        "        b = self.linear_tanh_stack[2*i].bias\n",
        "\n",
        "        if i == 0:\n",
        "          dh_dx = f1(x @ w.T + b) * (dh_dx @ w.T)\n",
        "        else:\n",
        "          dh_dx = f1(self.h[i-1] @ w.T + b) * (dh_dx @ w.T)   \n",
        "        \n",
        "      # print(dh_dx.shape, gradient[t].shape)\n",
        "      \n",
        "      gradient[:,t] = dh_dx.reshape(-1)\n",
        "\n",
        "    return gradient\n",
        "  \n",
        "\n",
        "  def laplac(self, x):\n",
        "    \"\"\"\n",
        "    finds the Laplacian of the wave function at a given point x\n",
        "    \"\"\"\n",
        "    y = self.forward(x)  # computes outputs of the layers\n",
        "    laplacian = 0.0\n",
        "    for t in range(self.N):\n",
        "      dh_dx = torch.zeros(self.N).to(device)\n",
        "      dh_dx[t] = 1\n",
        "\n",
        "      d2h_dx2 = torch.zeros(self.N).to(device)\n",
        "\n",
        "      for i in range(self.l + 1):\n",
        "        w = self.linear_tanh_stack[2*i].weight\n",
        "        b = self.linear_tanh_stack[2*i].bias\n",
        "\n",
        "        # firstly, the new value of the second derivative computes as it is \n",
        "        # used the previous value of the first derivative\n",
        "\n",
        "        if i == 0:\n",
        "          d2h_dx2 = f2(x @ w.T + b) * (dh_dx @ w.T)**2\n",
        "        else:\n",
        "          d2h_dx2 = f2(self.h[i-1] @ w.T + b) * (dh_dx @ w.T)**2\\\n",
        "                    + f1(self.h[i-1] @ w.T + b) * (d2h_dx2 @ w.T)\n",
        "\n",
        "        if i == 0:\n",
        "          dh_dx = f1(x @ w.T + b) * (dh_dx @ w.T)\n",
        "        else:\n",
        "          dh_dx = f1(self.h[i-1] @ w.T + b) * (dh_dx @ w.T) \n",
        "      \n",
        "      # print(d2h_dx2)\n",
        "      laplacian += d2h_dx2\n",
        "    \n",
        "    return laplacian"
      ],
      "metadata": {
        "id": "_QiDWtWDfBVM"
      },
      "execution_count": 33,
      "outputs": []
    },
    {
      "cell_type": "code",
      "source": [
        "# def A(x_):\n",
        "#   return torch.sum(torch.abs(x_ - 1/2) - 1/2, axis=1)\n",
        "  \n",
        "# def Ax(x_):\n",
        "#   return 2*torch.sign(x_-1/2)\n",
        "  \n",
        "# def Axx(x_):\n",
        "#   return 0.0\n",
        "\n",
        "def A(x_):\n",
        "  return torch.sum((x_ - 1/2)**2-1/4, axis=1)\n",
        "  \n",
        "def Ax(x_):\n",
        "  return 2*(x_-1/2)\n",
        "  \n",
        "def Axx(x_):\n",
        "  return 2.0\n",
        "\n",
        "def train_loop(N, N_batch, M, wf, optimizer):\n",
        "  \"\"\"\n",
        "  N --- a size of the input vector, its dimension\n",
        "  M --- total number of iterations\n",
        "  \"\"\"\n",
        "\n",
        "  loss_fn = nn.L1Loss()\n",
        "  # alpha = 1.0\n",
        "  \n",
        "  for i in range(M):\n",
        "    x_test = torch.rand((N_batch, N)).to(device)\n",
        "\n",
        "    phi_test = wf(x_test).reshape(len(x_test)).to(device)\n",
        "    phix_test = wf.grad(x_test).to(device)\n",
        "    phixx_test = wf.laplac(x_test).reshape(len(x_test)).to(device)\n",
        "\n",
        "    # если задавать нужное значение энергии, то всё получается\n",
        "    I = torch.mean( (phixx_test * A(x_test) \\\n",
        "                     + 2 * torch.sum(Ax(x_test) * phix_test, axis=1) \\\n",
        "                     + Axx(x_test) * phi_test \\\n",
        "                     + np.pi**2*phi_test*A(x_test))**2 )\n",
        "\n",
        "    # I = -torch.mean((phixx_test * A(x_test) + 2 * torch.sum(Ax(x_test) * phix_test, axis=-1) + Axx(x_) * phi_test)/(phi_test*A(x_test))) + alpha * (torch.mean(torch.sum((phi_test*A(x_test))**2, axis=-1)) - 1.0).to(device)\n",
        "\n",
        "    # Compute loss\n",
        "    loss = loss_fn(I, torch.tensor(0.0, device=device))\n",
        "\n",
        "    # Backpropagation\n",
        "    optimizer.zero_grad()\n",
        "    loss.backward()\n",
        "    optimizer.step()\n",
        "\n",
        "    if (i+1) % 500 == 0:\n",
        "      print(f\"Residual: {loss.item():>0.4E} [{i+1:>5d} / {M:>5d}]\")\n",
        "      # print(f\"Mean local energy: {torch.mean((phixx_test * A(x_test) + 2 * torch.sum(Ax(x_test) * phix_test, axis=-1) + Axx(x_test) * phi_test)/(phi_test*A(x_test))):>0.4E} [{i+1:>5d} / {M:>5d}]\")\n",
        "\n",
        "      # print(f\"Mean local energy: {loss.item():>0.4f}, Relative mean std error: {e_loc.std():>0.4f} [{i+1:>5d} / {M//N_batch:>5d}]\")"
      ],
      "metadata": {
        "id": "E2nA40qcyv_P"
      },
      "execution_count": 77,
      "outputs": []
    },
    {
      "cell_type": "code",
      "source": [
        "def plot_compar(wf):\n",
        "  x = torch.linspace(1e-2,1-1e-2,100).reshape((-1, N)).to(device)\n",
        "  y = wf(x) * A(x).reshape((-1,N))\n",
        "\n",
        "  x = x.cpu().detach().numpy()\n",
        "  y = y.cpu().detach().numpy()\n",
        "\n",
        "  plt.plot(x, (y/y.mean())**2,\n",
        "           label='What we get')\n",
        "  \n",
        "  plt.plot(x, (np.sin(x*np.pi)/np.sin(x*np.pi).mean())**2,\n",
        "           label='What we should get')\n",
        "\n",
        "  plt.legend()\n",
        "  plt.xlim(0,1)\n",
        "  plt.ylim(0.0,None)\n",
        "\n",
        "  plt.show()"
      ],
      "metadata": {
        "id": "u4Oq4oeEJqBF"
      },
      "execution_count": 83,
      "outputs": []
    },
    {
      "cell_type": "markdown",
      "source": [
        "## Our wavefunction"
      ],
      "metadata": {
        "id": "K5CT__3bgwAy"
      }
    },
    {
      "cell_type": "code",
      "source": [
        "N = 1  # size of the input vector\n",
        "wf = WaveFunction(N, [10]*3).to(device) ## число внутренних слоёв должно быть той же четности, что и номер состояния"
      ],
      "metadata": {
        "id": "HbIunsoysKkA"
      },
      "execution_count": 92,
      "outputs": []
    },
    {
      "cell_type": "code",
      "source": [
        "optimizer = torch.optim.SGD(params = wf.parameters(), lr=1e-2)\n",
        "scheduler = torch.optim.lr_scheduler.ExponentialLR(optimizer, gamma=0.9)\n",
        "epochs = 10\n",
        "for t in range(epochs):\n",
        "  print(f\"\\n Epoch {t+1}\\n-------------------------------\")\n",
        "  train_loop(N, 10, 1000, wf, optimizer)\n",
        "  scheduler.step()\n",
        "\n",
        "  if (t+1) % 5 == 0:\n",
        "    plot_compar(wf)"
      ],
      "metadata": {
        "id": "XLs3Ebluumdr",
        "colab": {
          "base_uri": "https://localhost:8080/",
          "height": 1000
        },
        "outputId": "d000d6c6-007c-4335-92ef-120b03ec7377"
      },
      "execution_count": 96,
      "outputs": [
        {
          "output_type": "stream",
          "name": "stdout",
          "text": [
            "\n",
            " Epoch 1\n",
            "-------------------------------\n",
            "Residual: 1.0420E-07 [  500 /  1000]\n",
            "Residual: 3.1481E-07 [ 1000 /  1000]\n",
            "\n",
            " Epoch 2\n",
            "-------------------------------\n",
            "Residual: 1.4990E-07 [  500 /  1000]\n",
            "Residual: 1.0424E-07 [ 1000 /  1000]\n",
            "\n",
            " Epoch 3\n",
            "-------------------------------\n",
            "Residual: 3.0922E-08 [  500 /  1000]\n",
            "Residual: 3.5321E-07 [ 1000 /  1000]\n",
            "\n",
            " Epoch 4\n",
            "-------------------------------\n",
            "Residual: 1.0362E-07 [  500 /  1000]\n",
            "Residual: 1.6365E-07 [ 1000 /  1000]\n",
            "\n",
            " Epoch 5\n",
            "-------------------------------\n",
            "Residual: 1.0079E-07 [  500 /  1000]\n",
            "Residual: 7.9218E-08 [ 1000 /  1000]\n"
          ]
        },
        {
          "output_type": "display_data",
          "data": {
            "text/plain": [
              "<Figure size 432x288 with 1 Axes>"
            ],
            "image/png": "[encoded data removed]"
          },
          "metadata": {
            "needs_background": "light"
          }
        },
        {
          "output_type": "stream",
          "name": "stdout",
          "text": [
            "\n",
            " Epoch 6\n",
            "-------------------------------\n",
            "Residual: 1.3548E-07 [  500 /  1000]\n",
            "Residual: 1.7833E-07 [ 1000 /  1000]\n",
            "\n",
            " Epoch 7\n",
            "-------------------------------\n",
            "Residual: 2.8148E-07 [  500 /  1000]\n",
            "Residual: 1.0382E-07 [ 1000 /  1000]\n",
            "\n",
            " Epoch 8\n",
            "-------------------------------\n",
            "Residual: 2.9573E-08 [  500 /  1000]\n",
            "Residual: 2.2456E-07 [ 1000 /  1000]\n",
            "\n",
            " Epoch 9\n",
            "-------------------------------\n",
            "Residual: 1.7976E-07 [  500 /  1000]\n",
            "Residual: 9.4034E-08 [ 1000 /  1000]\n",
            "\n",
            " Epoch 10\n",
            "-------------------------------\n",
            "Residual: 5.2463E-08 [  500 /  1000]\n",
            "Residual: 2.0343E-07 [ 1000 /  1000]\n"
          ]
        },
        {
          "output_type": "display_data",
          "data": {
            "text/plain": [
              "<Figure size 432x288 with 1 Axes>"
            ],
            "image/png": "[encoded data removed]"
          },
          "metadata": {
            "needs_background": "light"
          }
        }
      ]
    },
    {
      "cell_type": "code",
      "source": [],
      "metadata": {
        "id": "snp3ywwRIC0t"
      },
      "execution_count": null,
      "outputs": []
    }
  ]
}