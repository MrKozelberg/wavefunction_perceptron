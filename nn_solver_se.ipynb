{
  "cells": [
    {
      "cell_type": "markdown",
      "metadata": {
        "id": "view-in-github",
        "colab_type": "text"
      },
      "source": [
        "<a href=\"https://colab.research.google.com/github/MrKozelberg/wavefunction_perceptron/blob/master/nn_solver_se.ipynb\" target=\"_parent\"><img src=\"https://colab.research.google.com/assets/colab-badge.svg\" alt=\"Open In Colab\"/></a>"
      ]
    },
    {
      "cell_type": "markdown",
      "metadata": {
        "id": "elXP-wUBurqQ"
      },
      "source": [
        "# Applying the perceptron to the Laplace operator's eigen-problem"
      ]
    },
    {
      "cell_type": "markdown",
      "metadata": {
        "id": "4fJsWq9ExUOq"
      },
      "source": [
        "## Imports"
      ]
    },
    {
      "cell_type": "code",
      "execution_count": 1,
      "metadata": {
        "id": "sug9ulazc23Z",
        "colab": {
          "base_uri": "https://localhost:8080/"
        },
        "outputId": "4506f3e4-03f8-4500-e6ef-3fe4a6b34c5f"
      },
      "outputs": [
        {
          "output_type": "stream",
          "name": "stdout",
          "text": [
            "Automatically created module for IPython interactive environment\n"
          ]
        }
      ],
      "source": [
        "print(__doc__)\n",
        "import numpy as np  # to work with arrays\n",
        "import matplotlib.pyplot as plt  # to make figures\n",
        "\n",
        "# PyTorch\n",
        "import torch\n",
        "from torch import nn\n",
        "import torch.nn.utils.parametrize as parametrize # to parameterize model\n",
        "\n",
        "import scipy"
      ]
    },
    {
      "cell_type": "markdown",
      "metadata": {
        "id": "BPGdvE0WxZ7S"
      },
      "source": [
        "## Detect available device"
      ]
    },
    {
      "cell_type": "code",
      "execution_count": 2,
      "metadata": {
        "colab": {
          "base_uri": "https://localhost:8080/"
        },
        "id": "NYSalFEpensc",
        "outputId": "f6df3f4c-7c05-4354-9c2d-f07a78ae4ee9"
      },
      "outputs": [
        {
          "output_type": "stream",
          "name": "stdout",
          "text": [
            "Using cpu device\n"
          ]
        }
      ],
      "source": [
        "device = \"cuda\" if torch.cuda.is_available() else \"cpu\"\n",
        "print(f\"Using {device} device\")"
      ]
    },
    {
      "cell_type": "markdown",
      "metadata": {
        "id": "D2y-KCVyxqLZ"
      },
      "source": [
        "## Definition of an activation function and its derivatives"
      ]
    },
    {
      "cell_type": "code",
      "execution_count": 3,
      "metadata": {
        "id": "QUpOyMlelHPb"
      },
      "outputs": [],
      "source": [
        "def f0(x):\n",
        "  return torch.log(1+torch.exp(x))\n",
        "\n",
        "def f1(x):\n",
        "  return 1/(1+torch.exp(-x))\n",
        "\n",
        "def f2(x):\n",
        "  return torch.exp(-x)/(1+torch.exp(-x))**2"
      ]
    },
    {
      "cell_type": "markdown",
      "source": [
        "## Amplitude and its derivatives"
      ],
      "metadata": {
        "id": "Ad2KrXWec85N"
      }
    },
    {
      "cell_type": "code",
      "source": [
        "class Amplitude(nn.Module):\n",
        "  def __init__(self, L=1.0):\n",
        "    super().__init__()\n",
        "    self.L = L\n",
        "\n",
        "  def forward(self, input):\n",
        "    p = torch.ones(input.shape[0]).to(device)\n",
        "    for i in range(input.shape[1]):\n",
        "      p *= (input[:,i] - self.L/2)**2-self.L**2/4\n",
        "    return p.reshape((len(input),1))\n",
        "\n",
        "class Amplitude_gradient(nn.Module):\n",
        "  def __init__(self, L=1.0):\n",
        "    super().__init__()\n",
        "    self.L = L\n",
        "    self.A = Amplitude(L)\n",
        "\n",
        "  def forward(self, input):\n",
        "    p = torch.ones(input.shape).to(device)\n",
        "    for i in range(input.shape[1]):\n",
        "      p[:, i] = self.A(input)[:,0] * 2 * (input[:,i] \\\n",
        "                                - self.L/2) / ((input[:,i] \\\n",
        "                                                - self.L/2)**2-self.L**2/4)\n",
        "    return p\n",
        "\n",
        "class Amplitude_laplacian(nn.Module):\n",
        "  def __init__(self, L=1.0):\n",
        "    super().__init__()\n",
        "    self.L = L\n",
        "    self.A = Amplitude(L)\n",
        "\n",
        "  def forward(self, input):\n",
        "    return (2 * self.A(input)[:,0] * torch.sum(((input \\\n",
        "                                      - self.L/2)**2 \\\n",
        "                                     - self.L**2/4)**(-1),\n",
        "                                     axis=1)).reshape((len(input),1))"
      ],
      "metadata": {
        "id": "LUtEALtUc7KM"
      },
      "execution_count": 4,
      "outputs": []
    },
    {
      "cell_type": "markdown",
      "metadata": {
        "id": "LhfjjwNGyB_-"
      },
      "source": [
        "## Class for the perceptron-wavefunction "
      ]
    },
    {
      "cell_type": "code",
      "execution_count": 5,
      "metadata": {
        "id": "_QiDWtWDfBVM"
      },
      "outputs": [],
      "source": [
        "class Perceptron(nn.Module):\n",
        "\n",
        "  def __init__(self, N, L, layersizes):\n",
        "    super(Perceptron, self).__init__()\n",
        "    self.N = N  # size of the input vector\n",
        "    self.V = L**N  # volume of the space\n",
        "    self.layersizes = layersizes  # sizes of hidden layers\n",
        "    self.l = len(self.layersizes)  # number of hidden layers\n",
        "    # Amplitude and its derivatives\n",
        "    self.A = Amplitude(L)\n",
        "    self.A_gradient = Amplitude_gradient(L)\n",
        "    self.A_laplacian = Amplitude_laplacian(L)\n",
        "    # layers        \n",
        "    self.linear_tanh_stack = nn.Sequential()\n",
        "    for i in range(self.l + 1):\n",
        "      if i == 0:\n",
        "        self.linear_tanh_stack.append(nn.Linear(N, self.layersizes[i]))\n",
        "      elif i == self.l:\n",
        "        self.linear_tanh_stack.append(nn.Linear(self.layersizes[i-1], 1))\n",
        "      else:\n",
        "        self.linear_tanh_stack.append(nn.Linear(self.layersizes[i-1],\n",
        "                                                self.layersizes[i]))\n",
        "      self.linear_tanh_stack.append(nn.Tanh())\n",
        "    self.h = [None] * (self.l + 1)  # outputs of the layers\n",
        "\n",
        "  def forward(self, x):\n",
        "    for i in range(self.l + 1):\n",
        "      if i == 0:\n",
        "        self.h[i] = self.linear_tanh_stack[2*i+1](\n",
        "            self.linear_tanh_stack[2*i](x))\n",
        "      else:\n",
        "        self.h[i] = self.linear_tanh_stack[2*i+1](\n",
        "            self.linear_tanh_stack[2*i](self.h[i-1]))\n",
        "    # print((self.V * torch.mean((self.A(x) * self.h[-1])**2)))\n",
        "    return self.A(x) * self.h[-1] #/ torch.sqrt(self.V * torch.mean((self.A(x) * self.h[-1])**2))\n",
        "\n",
        "  def gradient(self, x):\n",
        "    \"\"\"\n",
        "    finds the gradient of the wave function at a given point x\n",
        "    \"\"\"\n",
        "    _ = self.forward(x)  # computes outputs of the layers\n",
        "    self.gradient_array = torch.zeros(x.shape).to(device)\n",
        "    for t in range(self.N):\n",
        "      dh_dx = torch.zeros(self.N).to(device) #\n",
        "      dh_dx[t] = 1 # \n",
        "      for i in range(self.l + 1):\n",
        "        w = self.linear_tanh_stack[2*i].weight\n",
        "        b = self.linear_tanh_stack[2*i].bias\n",
        "        if i == 0:\n",
        "          dh_dx = f1(x @ w.T + b) * (dh_dx @ w.T)\n",
        "        else:\n",
        "          dh_dx = f1(self.h[i-1] @ w.T + b) * (dh_dx @ w.T)   \n",
        "      self.gradient_array[:,t] = dh_dx.reshape(-1)\n",
        "    return (self.A_gradient(x) * self.h[-1] \\\n",
        "            + self.A(x) \\\n",
        "            * self.gradient_array)# / torch.sqrt(self.V * torch.mean((self.A(x) * self.h[-1])**2))\n",
        "  \n",
        "  def laplacian(self, x):\n",
        "    \"\"\"\n",
        "    finds the Laplacian of the wave function at a given point x\n",
        "    \"\"\"\n",
        "    a = self.forward(x)  # computes outputs of the layers\n",
        "    b = self.gradient(x)\n",
        "    laplacian = 0.0\n",
        "    for t in range(self.N):\n",
        "      dh_dx = torch.zeros(self.N).to(device)\n",
        "      dh_dx[t] = 1\n",
        "      d2h_dx2 = torch.zeros(self.N).to(device)\n",
        "      for i in range(self.l + 1):\n",
        "        w = self.linear_tanh_stack[2*i].weight\n",
        "        b = self.linear_tanh_stack[2*i].bias\n",
        "        # firstly, the new value of the second derivative computes as it is \n",
        "        # used the previous value of the first derivative\n",
        "        if i == 0:\n",
        "          d2h_dx2 = f2(x @ w.T + b) * (dh_dx @ w.T)**2\n",
        "        else:\n",
        "          d2h_dx2 = f2(self.h[i-1] @ w.T + b) * (dh_dx @ w.T)**2\\\n",
        "                    + f1(self.h[i-1] @ w.T + b) * (d2h_dx2 @ w.T)\n",
        "        if i == 0:\n",
        "          dh_dx = f1(x @ w.T + b) * (dh_dx @ w.T)\n",
        "        else:\n",
        "          dh_dx = f1(self.h[i-1] @ w.T + b) * (dh_dx @ w.T) \n",
        "      laplacian += d2h_dx2\n",
        "    return (self.A_laplacian(x) * self.h[-1] \\\n",
        "            + 2 * torch.sum(self.A_gradient(x) * self.gradient_array,\n",
        "                            axis=1).reshape((len(x),1)) \\\n",
        "            + self.A(x) \\\n",
        "            * laplacian) #/ torch.sqrt(self.V * torch.mean((self.A(x) * self.h[-1])**2))"
      ]
    },
    {
      "cell_type": "code",
      "execution_count": 6,
      "metadata": {
        "id": "E2nA40qcyv_P"
      },
      "outputs": [],
      "source": [
        "def train_loop_laplacian_state0(N, n_iter, n_sample, model, L=1.0):\n",
        "  # Optimisation things\n",
        "  optimizer = torch.optim.Adam(params = model.parameters(), lr=1e-3)\n",
        "  scheduler = torch.optim.lr_scheduler.ExponentialLR(optimizer, gamma=0.9999)\n",
        "  loss_fn = nn.L1Loss()\n",
        "  n_x = n_sample * np.ones(n_iter, dtype=int)  # np.logspace(1, np.log10(n_iter)-1, n_iter, dtype=int)\n",
        "  # arrays to output\n",
        "  energy = np.zeros(n_iter, dtype=float)\n",
        "  loss_val = np.zeros(n_iter, dtype=float)\n",
        "  # loop\n",
        "  print(\"Iteration number   E   abs_err_E   Loss\")\n",
        "  for iter in range(n_iter):\n",
        "    x = torch.rand((n_x[iter], N)).to(device) * L\n",
        "    # Energy\n",
        "    energy[iter] = torch.mean(-model(x)*model.laplacian(x))/torch.mean(model(x)**2)\n",
        "    # Compute loss\n",
        "    loss = loss_fn(torch.mean((-model.laplacian(x) \\\n",
        "                               - torch.mean(-model(x)*model.laplacian(x))/torch.mean(model(x)**2)* model(x))**2)\\\n",
        "                   + torch.mean((model(x) - model(L-x))**2)\\\n",
        "                   + 1e-5*abs(torch.mean(model(x)**2) - 1),\n",
        "                   torch.zeros(torch.Size([])).to(device))\n",
        "    # Backpropagation\n",
        "    optimizer.zero_grad()\n",
        "    loss.backward()\n",
        "    optimizer.step()\n",
        "    loss_val[iter] = loss.item()\n",
        "    if np.isnan(loss.item()):\n",
        "      print(f'[{iter+1:>5d} / {n_iter:>5d}] LOSS FUNCTION IS NAN')\n",
        "      return energy, loss_val\n",
        "    if (iter+1) % 1000 == 0:\n",
        "      print(f\"{iter+1:>5d} {energy[iter-999:iter].mean():>0.2E} {energy[iter-999:iter].mean()-np.pi**2:>0.2E} {loss_val[iter]:>0.2E}\")\n",
        "    scheduler.step()\n",
        "  return energy, loss_val"
      ]
    },
    {
      "cell_type": "markdown",
      "metadata": {
        "id": "clMQSN9tOQDm"
      },
      "source": [
        "# 1D"
      ]
    },
    {
      "cell_type": "code",
      "execution_count": 7,
      "metadata": {
        "id": "HbIunsoysKkA"
      },
      "outputs": [],
      "source": [
        "N = 1  # size of the input vector\n",
        "perceptron0 = Perceptron(N, 1, [100,100]).to(device)"
      ]
    },
    {
      "cell_type": "code",
      "source": [
        "e0, l0 = train_loop_laplacian_state0(N, 15000, 100, perceptron0)"
      ],
      "metadata": {
        "colab": {
          "base_uri": "https://localhost:8080/"
        },
        "id": "CSHd-3-SbPpj",
        "outputId": "cb016d00-a3cd-45c3-fb95-4606e6279dcc"
      },
      "execution_count": 9,
      "outputs": [
        {
          "output_type": "stream",
          "name": "stdout",
          "text": [
            "Iteration number   E   abs_err_E   Loss\n",
            " 1000 8.95E+00 -9.21E-01 1.01E-05\n",
            " 2000 9.49E+00 -3.76E-01 1.05E-05\n",
            " 3000 9.42E+00 -4.52E-01 1.01E-05\n",
            " 4000 9.23E+00 -6.39E-01 1.01E-05\n",
            " 5000 9.57E+00 -3.02E-01 1.00E-05\n",
            " 6000 9.35E+00 -5.18E-01 1.25E-05\n",
            " 7000 9.72E+00 -1.51E-01 1.00E-05\n",
            " 8000 9.36E+00 -5.06E-01 1.00E-05\n",
            " 9000 9.64E+00 -2.29E-01 1.00E-05\n",
            "10000 9.30E+00 -5.66E-01 1.04E-05\n",
            "11000 9.52E+00 -3.46E-01 1.00E-05\n",
            "12000 9.34E+00 -5.27E-01 1.00E-05\n",
            "13000 9.61E+00 -2.58E-01 1.00E-05\n",
            "14000 9.43E+00 -4.44E-01 1.00E-05\n",
            "15000 9.56E+00 -3.06E-01 1.00E-05\n"
          ]
        }
      ]
    },
    {
      "cell_type": "code",
      "source": [
        "fig, (ax_e, ax_l) = plt.subplots(nrows=1, ncols=2, figsize=(16,5))\n",
        "\n",
        "ax_e.plot(np.arange(len(e0)), e0, linewidth=1)\n",
        "ax_e.axhline(y=np.pi**2, linestyle='-', color='black', linewidth=1)\n",
        "\n",
        "ax_e.set_yscale('log')\n",
        "# plt.title(r'$\\lambda_0$')\n",
        "ax_e.set_xlabel('Iteration')\n",
        "ax_e.set_ylabel(r'$\\lambda_0$')\n",
        "\n",
        "ax_e.set_xlim(np.arange(len(e0))[[0,-1]])\n",
        "# ax_e.set_ylim(9,10)\n",
        "\n",
        "ax_l.plot(np.arange(len(l0)), l0, linewidth=1)\n",
        "\n",
        "ax_l.set_yscale('log')\n",
        "# plt.title(r'$\\lambda_0$')\n",
        "ax_l.set_xlabel('Iteration')\n",
        "ax_l.set_ylabel(r'Loss function')\n",
        "\n",
        "ax_l.set_xlim(np.arange(len(e0))[[0,-1]])\n",
        "# ax_l.set_ylim(9.6,10)\n",
        "\n",
        "fig.savefig('lambda0_loss0.png', dpi=300, bbox_inches='tight')"
      ],
      "metadata": {
        "colab": {
          "base_uri": "https://localhost:8080/",
          "height": 334
        },
        "id": "ED1hFKnWWX7h",
        "outputId": "94f445ea-4afc-493b-e92d-7f4b3ce56882"
      },
      "execution_count": 10,
      "outputs": [
        {
          "output_type": "display_data",
          "data": {
            "text/plain": [
              "<Figure size 1152x360 with 2 Axes>"
            ],
            "image/png": "[encoded data removed]"
          },
          "metadata": {
            "needs_background": "light"
          }
        }
      ]
    },
    {
      "cell_type": "code",
      "source": [
        "def train_loop_laplacian_state1(N, n_iter, n_sample, model0, model1, L=1.0):\n",
        "  # Optimisation things\n",
        "  optimizer = torch.optim.Adam(params = model1.parameters(), lr=1e-3)\n",
        "  scheduler = torch.optim.lr_scheduler.ExponentialLR(optimizer, gamma=0.9999)\n",
        "  loss_fn = nn.L1Loss()\n",
        "  n_x = n_sample * np.ones(n_iter, dtype=int)  # np.logspace(1, np.log10(n_iter)-1, n_iter, dtype=int)\n",
        "  # arrays to output\n",
        "  energy = np.zeros(n_iter, dtype=float)\n",
        "  loss_val = np.zeros(n_iter, dtype=float)\n",
        "  # loop\n",
        "  print(\"Iteration number   E   abs_err_E   Loss\")\n",
        "  for iter in range(n_iter):\n",
        "    x = torch.rand((n_x[iter], N)).to(device) * L\n",
        "    model = model1(x) - model0(x) * torch.mean(model0(x) * model1(x))/torch.mean((model0(x))**2)\n",
        "    # Energy\n",
        "    energy[iter] = torch.mean(-model*model1.laplacian(x))/torch.mean(model**2)\n",
        "    # Compute loss\n",
        "    loss = loss_fn(torch.mean((-model1.laplacian(x) \\\n",
        "                               - torch.mean(-model*model1.laplacian(x))/torch.mean(model**2)* model)**2)\\\n",
        "                   + torch.mean((model1(x) + model1(L-x))**2)\\\n",
        "                   + 1e-5*abs(torch.mean(model**2) - 1),\n",
        "                   torch.zeros(torch.Size([])).to(device))\n",
        "    # Backpropagation\n",
        "    optimizer.zero_grad()\n",
        "    loss.backward()\n",
        "    optimizer.step()\n",
        "    loss_val[iter] = loss.item()\n",
        "    if np.isnan(loss.item()):\n",
        "      print(f'[{iter+1:>5d} / {n_iter:>5d}] LOSS FUNCTION IS NAN')\n",
        "      return energy, loss_val\n",
        "    if (iter+1) % 1000 == 0:\n",
        "      print(f\"{iter+1:>5d} {energy[iter-999:iter].mean():>0.2E} {energy[iter-999:iter].mean()-4*np.pi**2:>0.2E} {loss_val[iter]:>0.2E}\")\n",
        "    scheduler.step()\n",
        "  return energy, loss_val"
      ],
      "metadata": {
        "id": "rwvtkllcEn4O"
      },
      "execution_count": 14,
      "outputs": []
    },
    {
      "cell_type": "code",
      "source": [
        "N = 1  # size of the input vector\n",
        "perceptron1 = Perceptron(N, 1, [100,100]).to(device)\n",
        "\n",
        "e1, l1 = train_loop_laplacian_state1(N, 15000, 200, perceptron0, perceptron1)"
      ],
      "metadata": {
        "colab": {
          "base_uri": "https://localhost:8080/"
        },
        "id": "Kf9f-cH2HfQW",
        "outputId": "bba455b9-665c-4bcd-de68-a87fbbb78b27"
      },
      "execution_count": 25,
      "outputs": [
        {
          "output_type": "stream",
          "name": "stdout",
          "text": [
            "Iteration number   E   abs_err_E   Loss\n",
            " 1000 1.10E+01 -2.85E+01 1.01E-05\n",
            " 2000 7.35E+00 -3.21E+01 1.02E-05\n",
            " 3000 9.56E+00 -2.99E+01 1.03E-05\n",
            " 4000 5.23E+00 -3.42E+01 6.47E-05\n",
            " 5000 2.77E+00 -3.67E+01 1.60E-05\n",
            " 6000 1.73E+01 -2.22E+01 2.17E-05\n",
            " 7000 1.46E+01 -2.49E+01 1.00E-05\n",
            " 8000 1.73E+01 -2.22E+01 3.37E-05\n",
            " 9000 1.72E+01 -2.23E+01 1.00E-05\n",
            "10000 1.15E+01 -2.80E+01 1.00E-05\n",
            "11000 5.65E+00 -3.38E+01 1.00E-05\n",
            "12000 1.41E+01 -2.54E+01 1.37E-05\n",
            "13000 1.04E+01 -2.91E+01 1.00E-05\n",
            "14000 1.04E+01 -2.91E+01 1.03E-05\n",
            "15000 8.69E+00 -3.08E+01 1.37E-05\n"
          ]
        }
      ]
    },
    {
      "cell_type": "code",
      "source": [
        "fig, (ax_e, ax_l) = plt.subplots(nrows=1, ncols=2, figsize=(16,5))\n",
        "\n",
        "ax_e.plot(np.arange(len(e1)), e1, linewidth=1)\n",
        "ax_e.axhline(y=4*np.pi**2, linestyle='-', color='black', linewidth=1)\n",
        "\n",
        "ax_e.set_yscale('log')\n",
        "# plt.title(r'$\\lambda_0$')\n",
        "ax_e.set_xlabel('Iteration')\n",
        "ax_e.set_ylabel(r'$\\lambda_1$')\n",
        "\n",
        "ax_e.set_xlim(np.arange(len(e0))[[0,-1]])\n",
        "ax_e.set_ylim(None,1e2)\n",
        "\n",
        "ax_l.plot(np.arange(len(l1)), l1, linewidth=1)\n",
        "\n",
        "ax_l.set_yscale('log')\n",
        "# plt.title(r'$\\lambda_0$')\n",
        "ax_l.set_xlabel('Iteration')\n",
        "ax_l.set_ylabel(r'Loss function')\n",
        "\n",
        "ax_l.set_xlim(np.arange(len(e1))[[0,-1]])\n",
        "# ax_l.set_ylim(9.6,10)\n",
        "\n",
        "fig.savefig('lambda1_loss1.png', dpi=300, bbox_inches='tight')"
      ],
      "metadata": {
        "colab": {
          "base_uri": "https://localhost:8080/",
          "height": 340
        },
        "id": "vQvA_aGCIHqW",
        "outputId": "79e5cbe4-1678-4991-eacd-8d4449a22350"
      },
      "execution_count": 24,
      "outputs": [
        {
          "output_type": "display_data",
          "data": {
            "text/plain": [
              "<Figure size 1152x360 with 2 Axes>"
            ],
            "image/png": "[encoded data removed]"
          },
          "metadata": {
            "needs_background": "light"
          }
        }
      ]
    },
    {
      "cell_type": "code",
      "source": [
        "(e0.mean() - np.pi**2) / np.pi**2"
      ],
      "metadata": {
        "colab": {
          "base_uri": "https://localhost:8080/"
        },
        "id": "fTUIPTEj-_U4",
        "outputId": "642dd207-56fc-456c-a90d-2f1344288a2f"
      },
      "execution_count": 25,
      "outputs": [
        {
          "output_type": "execute_result",
          "data": {
            "text/plain": [
              "0.015468673219951544"
            ]
          },
          "metadata": {},
          "execution_count": 25
        }
      ]
    },
    {
      "cell_type": "code",
      "source": [
        "y = perceptron0(torch.linspace(0,1,101).reshape((101,1)).to(device)).cpu().detach().numpy()\n",
        "x = np.linspace(0,1,101)\n",
        "plt.plot(x,abs(y)/abs(y).max())\n",
        "plt.plot(x,np.sin(x*np.pi)/np.sin(x*np.pi).max())"
      ],
      "metadata": {
        "colab": {
          "base_uri": "https://localhost:8080/",
          "height": 282
        },
        "id": "5GANjE1Cpy8z",
        "outputId": "e08a3112-215f-4dc2-a505-8d60c57760b3"
      },
      "execution_count": 120,
      "outputs": [
        {
          "output_type": "execute_result",
          "data": {
            "text/plain": [
              "[<matplotlib.lines.Line2D at 0x7f62031fc550>]"
            ]
          },
          "metadata": {},
          "execution_count": 120
        },
        {
          "output_type": "display_data",
          "data": {
            "text/plain": [
              "<Figure size 432x288 with 1 Axes>"
            ],
            "image/png": "[encoded data removed]"
          },
          "metadata": {
            "needs_background": "light"
          }
        }
      ]
    },
    {
      "cell_type": "code",
      "source": [
        "N = 2  # size of the input vector\n",
        "perceptron0_2d = Perceptron(N, 1, [100,100]).to(device)"
      ],
      "metadata": {
        "id": "1sUmlGzVr8-0"
      },
      "execution_count": 148,
      "outputs": []
    },
    {
      "cell_type": "code",
      "source": [
        "e0_2d, l0_2d = train_loop_laplacian_state0(N, 15000, 100, perceptron0_2d)"
      ],
      "metadata": {
        "colab": {
          "base_uri": "https://localhost:8080/"
        },
        "id": "VwhAAtrBeDzE",
        "outputId": "27b063c9-0328-4193-96e5-7f1e3d874aa6"
      },
      "execution_count": 149,
      "outputs": [
        {
          "output_type": "stream",
          "name": "stdout",
          "text": [
            "Iteration number   E   abs_err_E   Loss\n",
            " 1000 1.66E+01 6.72E+00 1.01E-05\n",
            " 2000 1.97E+01 9.85E+00 1.00E-05\n",
            " 3000 2.04E+01 1.05E+01 1.21E-05\n",
            " 4000 2.06E+01 1.07E+01 1.00E-05\n",
            " 5000 2.09E+01 1.11E+01 1.01E-05\n",
            " 6000 2.13E+01 1.14E+01 1.00E-05\n",
            " 7000 2.13E+01 1.15E+01 1.00E-05\n",
            " 8000 2.12E+01 1.14E+01 1.00E-05\n",
            " 9000 2.13E+01 1.14E+01 1.00E-05\n",
            "10000 2.06E+01 1.08E+01 1.00E-05\n",
            "11000 2.04E+01 1.05E+01 1.00E-05\n",
            "12000 2.04E+01 1.05E+01 1.00E-05\n",
            "13000 2.10E+01 1.12E+01 1.00E-05\n",
            "14000 2.16E+01 1.17E+01 1.00E-05\n",
            "15000 2.15E+01 1.17E+01 1.00E-05\n"
          ]
        }
      ]
    },
    {
      "cell_type": "code",
      "source": [
        "fig, (ax_e, ax_l) = plt.subplots(nrows=1, ncols=2, figsize=(16,5))\n",
        "\n",
        "ax_e.plot(np.arange(len(e0_2d)), e0_2d, linewidth=1)\n",
        "ax_e.axhline(y=2*np.pi**2, linestyle='-', color='black', linewidth=1)\n",
        "\n",
        "ax_e.set_yscale('log')\n",
        "# plt.title(r'$\\lambda_0$')\n",
        "ax_e.set_xlabel('Iteration')\n",
        "ax_e.set_ylabel(r'$\\lambda_0$')\n",
        "\n",
        "ax_e.set_xlim(np.arange(len(e0_2d))[[0,-1]])\n",
        "# ax_e.set_ylim(9,10)\n",
        "\n",
        "ax_l.plot(np.arange(len(l0_2d)), l0_2d, linewidth=1)\n",
        "\n",
        "ax_l.set_yscale('log')\n",
        "# plt.title(r'$\\lambda_0$')\n",
        "ax_l.set_xlabel('Iteration')\n",
        "ax_l.set_ylabel(r'Loss function')\n",
        "\n",
        "ax_l.set_xlim(np.arange(len(e0_2d))[[0,-1]])\n",
        "# ax_l.set_ylim(9.6,10)\n",
        "\n",
        "fig.savefig('lambda0_loss0_2d.png', dpi=300, bbox_inches='tight')"
      ],
      "metadata": {
        "colab": {
          "base_uri": "https://localhost:8080/",
          "height": 546
        },
        "id": "izxIL3wBeTkv",
        "outputId": "a853a01a-ecf5-429c-8312-84f540e64ee1"
      },
      "execution_count": 16,
      "outputs": [
        {
          "output_type": "error",
          "ename": "NameError",
          "evalue": "ignored",
          "traceback": [
            "\u001b[0;31m---------------------------------------------------------------------------\u001b[0m",
            "\u001b[0;31mNameError\u001b[0m                                 Traceback (most recent call last)",
            "\u001b[0;32m<ipython-input-16-707d74280e62>\u001b[0m in \u001b[0;36m<module>\u001b[0;34m\u001b[0m\n\u001b[1;32m      1\u001b[0m \u001b[0mfig\u001b[0m\u001b[0;34m,\u001b[0m \u001b[0;34m(\u001b[0m\u001b[0max_e\u001b[0m\u001b[0;34m,\u001b[0m \u001b[0max_l\u001b[0m\u001b[0;34m)\u001b[0m \u001b[0;34m=\u001b[0m \u001b[0mplt\u001b[0m\u001b[0;34m.\u001b[0m\u001b[0msubplots\u001b[0m\u001b[0;34m(\u001b[0m\u001b[0mnrows\u001b[0m\u001b[0;34m=\u001b[0m\u001b[0;36m1\u001b[0m\u001b[0;34m,\u001b[0m \u001b[0mncols\u001b[0m\u001b[0;34m=\u001b[0m\u001b[0;36m2\u001b[0m\u001b[0;34m,\u001b[0m \u001b[0mfigsize\u001b[0m\u001b[0;34m=\u001b[0m\u001b[0;34m(\u001b[0m\u001b[0;36m16\u001b[0m\u001b[0;34m,\u001b[0m\u001b[0;36m5\u001b[0m\u001b[0;34m)\u001b[0m\u001b[0;34m)\u001b[0m\u001b[0;34m\u001b[0m\u001b[0;34m\u001b[0m\u001b[0m\n\u001b[1;32m      2\u001b[0m \u001b[0;34m\u001b[0m\u001b[0m\n\u001b[0;32m----> 3\u001b[0;31m \u001b[0max_e\u001b[0m\u001b[0;34m.\u001b[0m\u001b[0mplot\u001b[0m\u001b[0;34m(\u001b[0m\u001b[0mnp\u001b[0m\u001b[0;34m.\u001b[0m\u001b[0marange\u001b[0m\u001b[0;34m(\u001b[0m\u001b[0mlen\u001b[0m\u001b[0;34m(\u001b[0m\u001b[0me0_2d\u001b[0m\u001b[0;34m)\u001b[0m\u001b[0;34m)\u001b[0m\u001b[0;34m,\u001b[0m \u001b[0me0_2d\u001b[0m\u001b[0;34m,\u001b[0m \u001b[0mlinewidth\u001b[0m\u001b[0;34m=\u001b[0m\u001b[0;36m1\u001b[0m\u001b[0;34m)\u001b[0m\u001b[0;34m\u001b[0m\u001b[0;34m\u001b[0m\u001b[0m\n\u001b[0m\u001b[1;32m      4\u001b[0m \u001b[0max_e\u001b[0m\u001b[0;34m.\u001b[0m\u001b[0maxhline\u001b[0m\u001b[0;34m(\u001b[0m\u001b[0my\u001b[0m\u001b[0;34m=\u001b[0m\u001b[0;36m2\u001b[0m\u001b[0;34m*\u001b[0m\u001b[0mnp\u001b[0m\u001b[0;34m.\u001b[0m\u001b[0mpi\u001b[0m\u001b[0;34m**\u001b[0m\u001b[0;36m2\u001b[0m\u001b[0;34m,\u001b[0m \u001b[0mlinestyle\u001b[0m\u001b[0;34m=\u001b[0m\u001b[0;34m'-'\u001b[0m\u001b[0;34m,\u001b[0m \u001b[0mcolor\u001b[0m\u001b[0;34m=\u001b[0m\u001b[0;34m'black'\u001b[0m\u001b[0;34m,\u001b[0m \u001b[0mlinewidth\u001b[0m\u001b[0;34m=\u001b[0m\u001b[0;36m1\u001b[0m\u001b[0;34m)\u001b[0m\u001b[0;34m\u001b[0m\u001b[0;34m\u001b[0m\u001b[0m\n\u001b[1;32m      5\u001b[0m \u001b[0;34m\u001b[0m\u001b[0m\n",
            "\u001b[0;31mNameError\u001b[0m: name 'e0_2d' is not defined"
          ]
        },
        {
          "output_type": "display_data",
          "data": {
            "text/plain": [
              "<Figure size 1152x360 with 2 Axes>"
            ],
            "image/png": "[encoded data removed]"
          },
          "metadata": {
            "needs_background": "light"
          }
        }
      ]
    },
    {
      "cell_type": "code",
      "source": [
        "N = 3  # size of the input vector\n",
        "perceptron0_3d = Perceptron(N, 1, [100,100]).to(device)"
      ],
      "metadata": {
        "id": "odf6iWiuiSgX"
      },
      "execution_count": 14,
      "outputs": []
    },
    {
      "cell_type": "code",
      "source": [
        "e0_3d, l0_3d = train_loop_laplacian_state0(N, 15000, 100, perceptron0_3d)"
      ],
      "metadata": {
        "colab": {
          "base_uri": "https://localhost:8080/"
        },
        "id": "QFxAkP7JlRFn",
        "outputId": "da79b7ea-b56a-43a3-b107-a5c1e0a9704c"
      },
      "execution_count": 15,
      "outputs": [
        {
          "output_type": "stream",
          "name": "stdout",
          "text": [
            "Iteration number   E   abs_err_E   Loss\n",
            " 1000 2.82E+01 1.83E+01 1.00E-05\n",
            " 2000 2.99E+01 2.00E+01 1.06E-05\n",
            " 3000 3.15E+01 2.17E+01 1.00E-05\n",
            " 4000 3.08E+01 2.10E+01 1.00E-05\n",
            " 5000 3.11E+01 2.12E+01 1.00E-05\n",
            " 6000 3.06E+01 2.07E+01 1.00E-05\n",
            " 7000 3.13E+01 2.14E+01 1.00E-05\n",
            " 8000 3.18E+01 2.20E+01 1.00E-05\n",
            " 9000 3.18E+01 2.19E+01 1.04E-05\n",
            "10000 3.18E+01 2.19E+01 1.00E-05\n",
            "11000 3.16E+01 2.18E+01 1.00E-05\n",
            "12000 3.20E+01 2.21E+01 1.00E-05\n",
            "13000 3.17E+01 2.18E+01 1.00E-05\n",
            "14000 3.16E+01 2.17E+01 1.00E-05\n",
            "15000 3.18E+01 2.19E+01 1.00E-05\n"
          ]
        }
      ]
    },
    {
      "cell_type": "code",
      "source": [
        "fig, (ax_e, ax_l) = plt.subplots(nrows=1, ncols=2, figsize=(16,5))\n",
        "\n",
        "ax_e.plot(np.arange(len(e0_3d)), e0_3d, linewidth=1)\n",
        "ax_e.axhline(y=3*np.pi**2, linestyle='-', color='black', linewidth=1)\n",
        "\n",
        "ax_e.set_yscale('log')\n",
        "# plt.title(r'$\\lambda_0$')\n",
        "ax_e.set_xlabel('Iteration')\n",
        "ax_e.set_ylabel(r'$\\lambda_0$')\n",
        "\n",
        "ax_e.set_xlim(np.arange(len(e0_3d))[[0,-1]])\n",
        "# ax_e.set_ylim(9,10)\n",
        "\n",
        "ax_l.plot(np.arange(len(l0_3d)), l0_3d, linewidth=1)\n",
        "\n",
        "ax_l.set_yscale('log')\n",
        "# plt.title(r'$\\lambda_0$')\n",
        "ax_l.set_xlabel('Iteration')\n",
        "ax_l.set_ylabel(r'Loss function')\n",
        "\n",
        "ax_l.set_xlim(np.arange(len(e0_3d))[[0,-1]])\n",
        "ax_l.set_ylim(None, 2e-5)\n",
        "\n",
        "fig.savefig('lambda0_loss0_3d.png', dpi=300, bbox_inches='tight')"
      ],
      "metadata": {
        "colab": {
          "base_uri": "https://localhost:8080/",
          "height": 340
        },
        "id": "b2mmOYuzlTPC",
        "outputId": "fb5e4eb7-dec7-4547-9a01-a34f491dac63"
      },
      "execution_count": 16,
      "outputs": [
        {
          "output_type": "display_data",
          "data": {
            "text/plain": [
              "<Figure size 1152x360 with 2 Axes>"
            ],
            "image/png": "[encoded data removed]"
          },
          "metadata": {
            "needs_background": "light"
          }
        }
      ]
    },
    {
      "cell_type": "code",
      "source": [
        "e0_3d.mean() / (3*np.pi**2) -1"
      ],
      "metadata": {
        "colab": {
          "base_uri": "https://localhost:8080/"
        },
        "id": "x70XfFF4x9Qf",
        "outputId": "97ff1a55-7ef7-43eb-9b4c-c2498c8fcf32"
      },
      "execution_count": 20,
      "outputs": [
        {
          "output_type": "execute_result",
          "data": {
            "text/plain": [
              "0.05275650548829547"
            ]
          },
          "metadata": {},
          "execution_count": 20
        }
      ]
    },
    {
      "cell_type": "code",
      "source": [],
      "metadata": {
        "id": "8ZlK6fF76egg"
      },
      "execution_count": null,
      "outputs": []
    }
  ],
  "metadata": {
    "accelerator": "GPU",
    "colab": {
      "provenance": [],
      "authorship_tag": "ABX9TyOkaWH3md6m11X+OQHfPqz9",
      "include_colab_link": true
    },
    "kernelspec": {
      "display_name": "Python 3",
      "name": "python3"
    },
    "language_info": {
      "name": "python"
    }
  },
  "nbformat": 4,
  "nbformat_minor": 0
}