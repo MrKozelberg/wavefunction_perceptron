{
  "nbformat": 4,
  "nbformat_minor": 0,
  "metadata": {
    "colab": {
      "provenance": [],
      "collapsed_sections": [],
      "authorship_tag": "ABX9TyPdb0N3+lZatHtfemoBtJZw",
      "include_colab_link": true
    },
    "kernelspec": {
      "name": "python3",
      "display_name": "Python 3"
    },
    "language_info": {
      "name": "python"
    },
    "accelerator": "GPU"
  },
  "cells": [
    {
      "cell_type": "markdown",
      "metadata": {
        "id": "view-in-github",
        "colab_type": "text"
      },
      "source": [
        "<a href=\"https://colab.research.google.com/github/MrKozelberg/laplacian_perceptron/blob/main/laplacian.ipynb\" target=\"_parent\"><img src=\"https://colab.research.google.com/assets/colab-badge.svg\" alt=\"Open In Colab\"/></a>"
      ]
    },
    {
      "cell_type": "markdown",
      "source": [
        "# Calculation of the Laplace operator for a multilayer perceptron"
      ],
      "metadata": {
        "id": "COOlt8xZdH4f"
      }
    },
    {
      "cell_type": "code",
      "execution_count": null,
      "metadata": {
        "id": "sug9ulazc23Z"
      },
      "outputs": [],
      "source": [
        "# imports\n",
        "import numpy as np  # to work with arrays\n",
        "import matplotlib.pyplot as plt  # to make figures\n",
        "\n",
        "# PyTorch\n",
        "import torch\n",
        "from torch import nn\n"
      ]
    },
    {
      "cell_type": "code",
      "source": [
        "device = \"cuda\" if torch.cuda.is_available() else \"cpu\"\n",
        "print(f\"Using {device} device\")"
      ],
      "metadata": {
        "colab": {
          "base_uri": "https://localhost:8080/"
        },
        "id": "NYSalFEpensc",
        "outputId": "795ce616-7237-49e1-c147-b8b9f1c7f86e"
      },
      "execution_count": null,
      "outputs": [
        {
          "output_type": "stream",
          "name": "stdout",
          "text": [
            "Using cuda device\n"
          ]
        }
      ]
    },
    {
      "cell_type": "code",
      "source": [
        "def f0(x):\n",
        "    return torch.tanh(x)\n",
        "  \n",
        "def f1(x):\n",
        "  return 1/torch.cosh(x)**2\n",
        "  \n",
        "def f2(x):\n",
        "  return -2*torch.sinh(x)/torch.cosh(x)**3"
      ],
      "metadata": {
        "id": "QUpOyMlelHPb"
      },
      "execution_count": null,
      "outputs": []
    },
    {
      "cell_type": "code",
      "source": [
        "class WaveFunction(nn.Module):\n",
        "\n",
        "  def __init__(self, N, layersizes):\n",
        "    self.N = N  # size of the input vector\n",
        "    self.layersizes = layersizes  # sizes of hidden layers\n",
        "    self.l = len(self.layersizes)  # number of hidden layers\n",
        "\n",
        "    super(WaveFunction, self).__init__()\n",
        "        \n",
        "    self.linear_tanh_stack = [None] * (self.l + 1) * 2\n",
        "    for i in range(self.l + 1):\n",
        "      if i == 0:\n",
        "        self.linear_tanh_stack[2*i] = nn.Linear(N, self.layersizes[i])\n",
        "      elif i == self.l:\n",
        "        self.linear_tanh_stack[2*i] = nn.Linear(self.layersizes[i-1], 1)\n",
        "      else:\n",
        "        self.linear_tanh_stack[2*i] = nn.Linear(self.layersizes[i-1],\n",
        "                                                self.layersizes[i])\n",
        "      self.linear_tanh_stack[2*i+1] = nn.Tanh()\n",
        "    \n",
        "    self.h = [None] * (self.l + 1)  # outputs of the layers\n",
        "\n",
        "  \n",
        "  def forward(self, x):\n",
        "    for i in range(self.l + 1):\n",
        "      if i == 0:\n",
        "        self.h[i] = self.linear_tanh_stack[2*i+1](\n",
        "            self.linear_tanh_stack[2*i](x))\n",
        "      else:\n",
        "        self.h[i] = self.linear_tanh_stack[2*i+1](\n",
        "            self.linear_tanh_stack[2*i](self.h[i-1]))\n",
        "      \n",
        "    return self.h[-1]\n",
        "\n",
        "\n",
        "  def grad(self, x):\n",
        "    \"\"\"\n",
        "    finds the gradient of the wave function at a given point x\n",
        "    \"\"\"\n",
        "    y = self.forward(x)  # computes outputs of the layers #\n",
        "    gradient = torch.zeros(self.N) #\n",
        "    for t in range(self.N):\n",
        "      dh_dx = torch.zeros(self.N) #\n",
        "      dh_dx[t] = 1 # \n",
        "\n",
        "      for i in range(self.l + 1):\n",
        "        w = self.linear_tanh_stack[2*i].weight\n",
        "        b = self.linear_tanh_stack[2*i].bias\n",
        "\n",
        "        if i == 0:\n",
        "          dh_dx = f1(w @ x + b) * (w @ dh_dx)\n",
        "        else:\n",
        "          dh_dx = f1(w @ self.h[i-1] + b) * (w @ dh_dx)      \n",
        "      \n",
        "      gradient[t] = dh_dx\n",
        "\n",
        "    return gradient\n",
        "  \n",
        "\n",
        "  def laplac(self, x):\n",
        "    \"\"\"\n",
        "    finds the Laplacian of the wave function at a given point x\n",
        "    \"\"\"\n",
        "    y = self.forward(x)  # computes outputs of the layers\n",
        "    laplacian = 0.0\n",
        "    for t in range(self.N):\n",
        "      dh_dx = torch.zeros(self.N)\n",
        "      dh_dx[t] = 1\n",
        "\n",
        "      d2h_dx2 = torch.zeros(self.N)\n",
        "\n",
        "      for i in range(self.l + 1):\n",
        "        w = self.linear_tanh_stack[2*i].weight\n",
        "        b = self.linear_tanh_stack[2*i].bias\n",
        "\n",
        "        # firstly, the new value of the second derivative computes as it is \n",
        "        # used the previous value of the first derivative\n",
        "\n",
        "        if i == 0:\n",
        "          d2h_dx2 = f2(w @ x + b) * (w @ dh_dx)**2\n",
        "        else:\n",
        "          d2h_dx2 = f2(w @ self.h[i-1] + b) * (w @ dh_dx)**2\\\n",
        "                    + f1(w @ self.h[i-1] + b) * (w @ d2h_dx2)\n",
        "\n",
        "        if i == 0:\n",
        "          dh_dx = f1(w @ x + b) * (w @ dh_dx)\n",
        "        else:\n",
        "          dh_dx = f1(w @ self.h[i-1] + b) * (w @ dh_dx)\n",
        "      \n",
        "      # print(d2h_dx2)\n",
        "      laplacian += d2h_dx2\n",
        "    \n",
        "    return laplacian\n"
      ],
      "metadata": {
        "id": "_QiDWtWDfBVM"
      },
      "execution_count": null,
      "outputs": []
    },
    {
      "cell_type": "markdown",
      "source": [
        "## Test"
      ],
      "metadata": {
        "id": "Wtb6Ehg1ccjZ"
      }
    },
    {
      "cell_type": "code",
      "source": [
        "wf = WaveFunction(5, [5]).to(device)\n",
        "# wf.linear_tanh_stack"
      ],
      "metadata": {
        "id": "XIl2NiiCmPVy"
      },
      "execution_count": null,
      "outputs": []
    },
    {
      "cell_type": "markdown",
      "source": [
        "### Definition of the weights and biases"
      ],
      "metadata": {
        "id": "8VHLUi1dciA7"
      }
    },
    {
      "cell_type": "code",
      "source": [
        "with torch.no_grad():\n",
        "  wf.linear_tanh_stack[0].weight[:] =torch.nn.parameter.Parameter(torch.diag(torch.ones(wf.linear_tanh_stack[0].weight.shape[0])))\n",
        "  wf.linear_tanh_stack[0].bias[:] =torch.nn.parameter.Parameter(torch.zeros(wf.linear_tanh_stack[0].bias.shape))\n",
        "  wf.linear_tanh_stack[2].weight[:] =torch.nn.parameter.Parameter(torch.diag(torch.ones(wf.linear_tanh_stack[2].weight.shape[0])))\n",
        "  wf.linear_tanh_stack[2].bias[:] =torch.nn.parameter.Parameter(torch.zeros(wf.linear_tanh_stack[2].bias.shape))"
      ],
      "metadata": {
        "id": "ytzEdFZ5fLYt"
      },
      "execution_count": null,
      "outputs": []
    },
    {
      "cell_type": "markdown",
      "source": [
        "### Test the neural network"
      ],
      "metadata": {
        "id": "VWgEIYWPcrY_"
      }
    },
    {
      "cell_type": "code",
      "source": [
        "x = torch.arange(5) * 0.99\n",
        "\n",
        "y_an = torch.tanh(torch.sum(torch.tanh(x)))\n",
        "\n",
        "y_an, wf(x)"
      ],
      "metadata": {
        "colab": {
          "base_uri": "https://localhost:8080/"
        },
        "id": "K7mI2UnXZ6BX",
        "outputId": "9d1e186b-0b37-4f7d-9aa1-a17516939256"
      },
      "execution_count": null,
      "outputs": [
        {
          "output_type": "execute_result",
          "data": {
            "text/plain": [
              "(tensor(0.9988), tensor([0.9988], grad_fn=<TanhBackward0>))"
            ]
          },
          "metadata": {},
          "execution_count": 10
        }
      ]
    },
    {
      "cell_type": "markdown",
      "source": [
        "### Test of its gradient"
      ],
      "metadata": {
        "id": "_Rg9lTR1czgF"
      }
    },
    {
      "cell_type": "code",
      "source": [
        "yx_an = 1/torch.cosh(torch.sum(torch.tanh(x)))**2 * 1/torch.cosh(x)**2\n",
        "\n",
        "yx_an, wf.grad(x)"
      ],
      "metadata": {
        "colab": {
          "base_uri": "https://localhost:8080/"
        },
        "id": "SfqCFDFI0zP-",
        "outputId": "40b86e3c-c3b8-42cb-adfe-9d804042b566"
      },
      "execution_count": null,
      "outputs": [
        {
          "output_type": "execute_result",
          "data": {
            "text/plain": [
              "(tensor([2.3748e-03, 1.0126e-03, 1.7437e-04, 2.4871e-05, 3.4495e-06]),\n",
              " tensor([2.3748e-03, 1.0126e-03, 1.7437e-04, 2.4871e-05, 3.4495e-06],\n",
              "        grad_fn=<CopySlices>))"
            ]
          },
          "metadata": {},
          "execution_count": 11
        }
      ]
    },
    {
      "cell_type": "markdown",
      "source": [
        "### Finaly, we test its laplacian"
      ],
      "metadata": {
        "id": "L6Iwn7uLc5UX"
      }
    },
    {
      "cell_type": "code",
      "source": [
        "yxx_an = torch.sum(-2*yx_an*(torch.tanh(x) + y_an/torch.cosh(x)**2))\n",
        "\n",
        "yxx_an, wf.laplac(x)"
      ],
      "metadata": {
        "colab": {
          "base_uri": "https://localhost:8080/"
        },
        "id": "XQuBN_B23gCV",
        "outputId": "db7b13de-7063-4d67-c0f7-aed5ba8dbaf6"
      },
      "execution_count": null,
      "outputs": [
        {
          "output_type": "execute_result",
          "data": {
            "text/plain": [
              "(tensor(-0.0076), tensor([-0.0076], grad_fn=<AddBackward0>))"
            ]
          },
          "metadata": {},
          "execution_count": 12
        }
      ]
    },
    {
      "cell_type": "code",
      "source": [],
      "metadata": {
        "id": "upnI-5y5Pw1x"
      },
      "execution_count": null,
      "outputs": []
    }
  ]
}